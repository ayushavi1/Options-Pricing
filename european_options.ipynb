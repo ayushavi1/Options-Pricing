{
 "cells": [
  {
   "attachments": {},
   "cell_type": "markdown",
   "metadata": {},
   "source": [
    "# `2` European Options\n",
    "A European option is the type of options contract that allows investors to exercise their options only on the expiration date of that contract."
   ]
  },
  {
   "attachments": {},
   "cell_type": "markdown",
   "metadata": {},
   "source": [
    "run `fetch_data.py` to fetch data\n",
    "<br />\n",
    "if the data already fetched (`data_old` and `data_new` already available in `data` folder), skip this step"
   ]
  },
  {
   "cell_type": "markdown",
   "metadata": {},
   "source": [
    "`2.1` Import all the dependencies"
   ]
  },
  {
   "cell_type": "code",
   "execution_count": 17,
   "metadata": {},
   "outputs": [],
   "source": [
    "from nsepython import *\n",
    "from datetime import date\n",
    "import pandas as pd\n",
    "import numpy as np\n",
    "import matplotlib.pyplot as plt\n",
    "from scipy.stats import norm"
   ]
  },
  {
   "attachments": {},
   "cell_type": "markdown",
   "metadata": {},
   "source": [
    "`2.2` Set `inflation rate` and `bond yield` to calculate `risk free rate` of return for our model\n",
    "![./images/rfr.png](./images/rfr.png)"
   ]
  },
  {
   "cell_type": "code",
   "execution_count": 18,
   "metadata": {},
   "outputs": [
    {
     "name": "stdout",
     "output_type": "stream",
     "text": [
      "Risk free rate is:  0.032537313432835724\n"
     ]
    }
   ],
   "source": [
    "# Inflation rate is 3.85% as of 2023 April\n",
    "inflation_rate = 0.0385\n",
    "\n",
    "# 10 year bond yield is 7.229% as of 2023 April\n",
    "bond_yield = 0.07229\n",
    "\n",
    "# Risk free rate calculation\n",
    "risk_free_rate = ((1 + bond_yield) /  (1 + inflation_rate)) - 1\n",
    "\n",
    "print(\"Risk free rate is: \", risk_free_rate)"
   ]
  },
  {
   "attachments": {},
   "cell_type": "markdown",
   "metadata": {},
   "source": [
    "`2.3` As the required data is already fetced, read the csv files(`data_old` and `data_new`) from `data` folder and store the data in respective dataframes\n",
    "<br />"
   ]
  },
  {
   "cell_type": "code",
   "execution_count": 19,
   "metadata": {},
   "outputs": [],
   "source": [
    "\n",
    "data_old = pd.read_csv('./data/data_old.csv')\n",
    "data_new = pd.read_csv('./data/data_new.csv')"
   ]
  },
  {
   "attachments": {},
   "cell_type": "markdown",
   "metadata": {},
   "source": [
    "`2.4` Add new colunm `log_returns` to the dataframe to store log returns\n",
    "<br />\n",
    "The log returns are calculated by taking the difference between the log of the `closing price of the current day` and the log of the `closing price of the previous day`.\n",
    "<br />\n",
    "`d_std` is the standard deviation of the daily returns\n",
    "<br />\n",
    "calculate `annualized_volatility` by multiplying the `daily standard deviation` by the square root of `252` (number of trading days in a year)\n",
    "<br />\n",
    "![./images/daily_returns.png](./images/volatility.png)\n",
    "<br />\n",
    "`spot_price` is the closing price of the stock on the last trading day of the year"
   ]
  },
  {
   "cell_type": "code",
   "execution_count": 20,
   "metadata": {},
   "outputs": [],
   "source": [
    "data_old['log_returns'] = np.log(data_old['CH_CLOSING_PRICE'] / data_old['CH_CLOSING_PRICE'].shift(1))\n",
    "# export to csv\n",
    "data_old.to_csv(r'./data/data_old_log_returns.csv', index=False)\n",
    "\n",
    "d_std = data_old['log_returns'].std()\n",
    "annualized_volatility = d_std * 250 ** 0.5\n",
    "\n",
    "# Spot price\n",
    "spot_price = data_old['CH_CLOSING_PRICE'].iloc[-1]"
   ]
  },
  {
   "cell_type": "code",
   "execution_count": 21,
   "metadata": {},
   "outputs": [],
   "source": [
    "x = data_old[\"CH_CLOSING_PRICE\"].values\n",
    "n = x.shape[0]\n",
    "window = int(10*252)\n",
    "# Calculating the log returns\n",
    "log_returns = np.log(x[n-window:n-1]/x[n-window-1:n-2])\n",
    "\n",
    "# Calculating the annualized volatility\n",
    "annualized_volatility = np.std(log_returns) * np.sqrt(252)\n",
    "spot_price = x[n-1]"
   ]
  },
  {
   "cell_type": "code",
   "execution_count": 22,
   "metadata": {},
   "outputs": [
    {
     "name": "stdout",
     "output_type": "stream",
     "text": [
      "0.6004573547535781\n",
      "1071.15\n"
     ]
    }
   ],
   "source": [
    "print(annualized_volatility)\n",
    "print(spot_price)"
   ]
  },
  {
   "cell_type": "code",
   "execution_count": 23,
   "metadata": {},
   "outputs": [
    {
     "name": "stdout",
     "output_type": "stream",
     "text": [
      "1071.15\n",
      "[ 745.07367825 1130.50918951  783.88979327 ... 1274.17853198 1275.99742678\n",
      " 1069.16950802]\n"
     ]
    }
   ],
   "source": [
    "m=10000\n",
    "T=30.0/252\n",
    "# for t in range(T):\n",
    "def generate_prices(spot_price, risk_free_rate, annualized_volatility, T):\n",
    "    expected_price = spot_price * np.exp((risk_free_rate - 0.5 * annualized_volatility ** 2) * T + annualized_volatility * np.sqrt(T) * np.random.normal(0, 1, m))\n",
    "    return expected_price\n",
    "mean_price = generate_prices(spot_price, risk_free_rate, annualized_volatility, T)\n",
    "print(spot_price)\n",
    "print(mean_price)"
   ]
  },
  {
   "cell_type": "code",
   "execution_count": 24,
   "metadata": {},
   "outputs": [],
   "source": [
    "strike_price = 1090.00\n",
    "# spot_price = 168.34\n",
    "# annualized_volatility = 0.593305\n",
    "# risk_free_rate = 0.0202\n",
    "# T = 0.147945\n",
    "\n",
    "# call_payoff = np.maximum(mean_price - strike_price, 0)\n",
    "# put_payoff = np.maximum(strike_price - mean_price, 0)\n",
    "\n",
    "# print(call_payoff)\n",
    "# print(put_payoff)"
   ]
  },
  {
   "cell_type": "code",
   "execution_count": 25,
   "metadata": {},
   "outputs": [],
   "source": [
    "# Calculating Payoffs\n",
    "def payoff_generation(strike_price, simulation_count = 10000):\n",
    "    call_payoffs = []\n",
    "    put_payoffs = []\n",
    "    for i in range(simulation_count):\n",
    "        mean_price = generate_prices(spot_price, risk_free_rate, annualized_volatility, T)\n",
    "        call_payoff = np.maximum(mean_price - strike_price, 0)\n",
    "        put_payoff = np.maximum(strike_price - mean_price, 0)\n",
    "        call_payoffs.append(call_payoff)\n",
    "        put_payoffs.append(put_payoff)\n",
    "    return call_payoffs, put_payoffs"
   ]
  },
  {
   "cell_type": "code",
   "execution_count": 26,
   "metadata": {},
   "outputs": [],
   "source": [
    "# Calculating the call and put option prices\n",
    "def option_price_calculation(strike_price, simulation_count = 10000):\n",
    "    call_payoffs, put_payoffs = payoff_generation(strike_price, simulation_count)\n",
    "    call_price = np.mean(call_payoffs) * np.exp(-risk_free_rate * T)\n",
    "    put_price = np.mean(put_payoffs) * np.exp(-risk_free_rate * T)\n",
    "    return call_payoffs, put_payoffs, call_price, put_price"
   ]
  },
  {
   "cell_type": "code",
   "execution_count": 27,
   "metadata": {},
   "outputs": [
    {
     "name": "stdout",
     "output_type": "stream",
     "text": [
      "Call Option price is:  81.84386433006144\n",
      "Put Option price is:  96.50304000573448\n"
     ]
    }
   ],
   "source": [
    "# Executing the function\n",
    "call_payoffs, put_payoffs, call_price, put_price = option_price_calculation(strike_price)\n",
    "\n",
    "# Printing the results\n",
    "print(\"Call Option price is: \", call_price)\n",
    "print(\"Put Option price is: \", put_price)"
   ]
  },
  {
   "cell_type": "code",
   "execution_count": 28,
   "metadata": {},
   "outputs": [
    {
     "data": {
      "text/plain": [
       "True"
      ]
     },
     "execution_count": 28,
     "metadata": {},
     "output_type": "execute_result"
    }
   ],
   "source": [
    "# Calculating Put Call Parity\n",
    "def put_call_parity_calculation(call_price, put_price, spot_price, strike_price, risk_free_rate, T):\n",
    "    lhs = call_price - put_price\n",
    "    rhs = spot_price - strike_price * np.exp(-risk_free_rate * T)\n",
    "    return round(lhs) == round(rhs)\n",
    "\n",
    "# Executing the function\n",
    "put_call_parity_calculation(call_price, put_price, spot_price, strike_price, risk_free_rate, T)"
   ]
  },
  {
   "cell_type": "code",
   "execution_count": 29,
   "metadata": {},
   "outputs": [],
   "source": [
    "# Now lets calculate the option price using Black Scholes formula\n",
    "# First we need to calculate the d1 and d2 values\n",
    "\n",
    "# Calculating d1\n",
    "def d1_calculation(spot_price, strike_price, risk_free_rate, annualized_volatility, T):\n",
    "    d1 = (np.log(spot_price/strike_price) + (risk_free_rate + 0.5 * annualized_volatility**2) * T) / (annualized_volatility * np.sqrt(T))\n",
    "    return d1\n",
    "\n",
    "# Calculating d2\n",
    "def d2_calculation(spot_price, strike_price, risk_free_rate, annualized_volatility, T):\n",
    "    d2 = (np.log(spot_price/strike_price) + (risk_free_rate - 0.5 * annualized_volatility**2) * T) / (annualized_volatility * np.sqrt(T))"
   ]
  },
  {
   "cell_type": "code",
   "execution_count": 30,
   "metadata": {},
   "outputs": [],
   "source": [
    "# Calculating the call and put option prices using Black Scholes formula\n",
    "def option_price_calculation_black_scholes(spot_price, strike_price, risk_free_rate, annualized_volatility, T):\n",
    "    d1 = d1_calculation(spot_price, strike_price, risk_free_rate, annualized_volatility, T)\n",
    "    d2 = d2_calculation(spot_price, strike_price, risk_free_rate, annualized_volatility, T)\n",
    "    call_price = spot_price * norm.cdf(d1) - strike_price * np.exp(-risk_free_rate * T) * norm.cdf(d2)\n",
    "    put_price = strike_price * np.exp(-risk_free_rate * T) * norm.cdf(-d2) - spot_price * norm.cdf(-d1)\n",
    "    return call_price, put_price"
   ]
  },
  {
   "cell_type": "code",
   "execution_count": 31,
   "metadata": {},
   "outputs": [
    {
     "ename": "TypeError",
     "evalue": "unsupported operand type(s) for -: 'NoneType' and 'int'",
     "output_type": "error",
     "traceback": [
      "\u001b[1;31m---------------------------------------------------------------------------\u001b[0m",
      "\u001b[1;31mTypeError\u001b[0m                                 Traceback (most recent call last)",
      "Cell \u001b[1;32mIn[31], line 2\u001b[0m\n\u001b[0;32m      1\u001b[0m \u001b[39m# Executing the function\u001b[39;00m\n\u001b[1;32m----> 2\u001b[0m call_price_black_scholes, put_price_black_scholes \u001b[39m=\u001b[39m option_price_calculation_black_scholes(spot_price, strike_price, risk_free_rate, annualized_volatility, T)\n\u001b[0;32m      3\u001b[0m \u001b[39mprint\u001b[39m(\u001b[39m\"\u001b[39m\u001b[39mCall Option price using Black Scholes formula is: \u001b[39m\u001b[39m\"\u001b[39m, call_price_black_scholes)\n\u001b[0;32m      4\u001b[0m \u001b[39mprint\u001b[39m(\u001b[39m\"\u001b[39m\u001b[39mPut Option price using Black Scholes formula is: \u001b[39m\u001b[39m\"\u001b[39m, put_price_black_scholes)\n",
      "Cell \u001b[1;32mIn[30], line 5\u001b[0m, in \u001b[0;36moption_price_calculation_black_scholes\u001b[1;34m(spot_price, strike_price, risk_free_rate, annualized_volatility, T)\u001b[0m\n\u001b[0;32m      3\u001b[0m d1 \u001b[39m=\u001b[39m d1_calculation(spot_price, strike_price, risk_free_rate, annualized_volatility, T)\n\u001b[0;32m      4\u001b[0m d2 \u001b[39m=\u001b[39m d2_calculation(spot_price, strike_price, risk_free_rate, annualized_volatility, T)\n\u001b[1;32m----> 5\u001b[0m call_price \u001b[39m=\u001b[39m spot_price \u001b[39m*\u001b[39m norm\u001b[39m.\u001b[39mcdf(d1) \u001b[39m-\u001b[39m strike_price \u001b[39m*\u001b[39m np\u001b[39m.\u001b[39mexp(\u001b[39m-\u001b[39mrisk_free_rate \u001b[39m*\u001b[39m T) \u001b[39m*\u001b[39m norm\u001b[39m.\u001b[39;49mcdf(d2)\n\u001b[0;32m      6\u001b[0m put_price \u001b[39m=\u001b[39m strike_price \u001b[39m*\u001b[39m np\u001b[39m.\u001b[39mexp(\u001b[39m-\u001b[39mrisk_free_rate \u001b[39m*\u001b[39m T) \u001b[39m*\u001b[39m norm\u001b[39m.\u001b[39mcdf(\u001b[39m-\u001b[39md2) \u001b[39m-\u001b[39m spot_price \u001b[39m*\u001b[39m norm\u001b[39m.\u001b[39mcdf(\u001b[39m-\u001b[39md1)\n\u001b[0;32m      7\u001b[0m \u001b[39mreturn\u001b[39;00m call_price, put_price\n",
      "File \u001b[1;32mc:\\Users\\karan\\AppData\\Local\\Programs\\Python\\Python38\\lib\\site-packages\\scipy\\stats\\_distn_infrastructure.py:2176\u001b[0m, in \u001b[0;36mrv_continuous.cdf\u001b[1;34m(self, x, *args, **kwds)\u001b[0m\n\u001b[0;32m   2174\u001b[0m _a, _b \u001b[39m=\u001b[39m \u001b[39mself\u001b[39m\u001b[39m.\u001b[39m_get_support(\u001b[39m*\u001b[39margs)\n\u001b[0;32m   2175\u001b[0m dtyp \u001b[39m=\u001b[39m np\u001b[39m.\u001b[39mpromote_types(x\u001b[39m.\u001b[39mdtype, np\u001b[39m.\u001b[39mfloat64)\n\u001b[1;32m-> 2176\u001b[0m x \u001b[39m=\u001b[39m np\u001b[39m.\u001b[39masarray((x \u001b[39m-\u001b[39;49m loc)\u001b[39m/\u001b[39mscale, dtype\u001b[39m=\u001b[39mdtyp)\n\u001b[0;32m   2177\u001b[0m cond0 \u001b[39m=\u001b[39m \u001b[39mself\u001b[39m\u001b[39m.\u001b[39m_argcheck(\u001b[39m*\u001b[39margs) \u001b[39m&\u001b[39m (scale \u001b[39m>\u001b[39m \u001b[39m0\u001b[39m)\n\u001b[0;32m   2178\u001b[0m cond1 \u001b[39m=\u001b[39m \u001b[39mself\u001b[39m\u001b[39m.\u001b[39m_open_support_mask(x, \u001b[39m*\u001b[39margs) \u001b[39m&\u001b[39m (scale \u001b[39m>\u001b[39m \u001b[39m0\u001b[39m)\n",
      "\u001b[1;31mTypeError\u001b[0m: unsupported operand type(s) for -: 'NoneType' and 'int'"
     ]
    }
   ],
   "source": [
    "# Executing the function\n",
    "call_price_black_scholes, put_price_black_scholes = option_price_calculation_black_scholes(spot_price, strike_price, risk_free_rate, annualized_volatility, T)\n",
    "print(\"Call Option price using Black Scholes formula is: \", call_price_black_scholes)\n",
    "print(\"Put Option price using Black Scholes formula is: \", put_price_black_scholes)"
   ]
  },
  {
   "cell_type": "code",
   "execution_count": null,
   "metadata": {},
   "outputs": [],
   "source": []
  }
 ],
 "metadata": {
  "kernelspec": {
   "display_name": "Python 3",
   "language": "python",
   "name": "python3"
  },
  "language_info": {
   "codemirror_mode": {
    "name": "ipython",
    "version": 3
   },
   "file_extension": ".py",
   "mimetype": "text/x-python",
   "name": "python",
   "nbconvert_exporter": "python",
   "pygments_lexer": "ipython3",
   "version": "3.8.6rc1"
  },
  "orig_nbformat": 4
 },
 "nbformat": 4,
 "nbformat_minor": 2
}
