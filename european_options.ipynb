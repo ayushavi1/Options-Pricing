{
 "cells": [
  {
   "cell_type": "markdown",
   "metadata": {},
   "source": [
    "# `2` European Options\n",
    "A European option is the type of options contract that allows investors to exercise their options only on the expiration date of that contract."
   ]
  },
  {
   "cell_type": "markdown",
   "metadata": {},
   "source": [
    "run `fetch_data.py` to fetch data\n",
    "<br />\n",
    "if the data already fetched (`data_old` and `data_new` already available in `data` folder), skip this step"
   ]
  },
  {
   "cell_type": "markdown",
   "metadata": {},
   "source": [
    "`2.1` Import all the dependencies"
   ]
  },
  {
   "cell_type": "code",
   "execution_count": 36,
   "metadata": {},
   "outputs": [],
   "source": [
    "from nsepython import *\n",
    "from datetime import date\n",
    "import pandas as pd\n",
    "import numpy as np\n",
    "from scipy.stats import norm\n",
    "import matplotlib.pyplot as plt"
   ]
  },
  {
   "cell_type": "markdown",
   "metadata": {},
   "source": [
    "`2.2` Set `inflation rate` and `bond yield` to calculate `risk free rate` of return for our model\n",
    "![./images/rfr.png](./images/rfr.png)"
   ]
  },
  {
   "cell_type": "code",
   "execution_count": 27,
   "metadata": {},
   "outputs": [
    {
     "name": "stdout",
     "output_type": "stream",
     "text": [
      "Risk free rate is:  0.032537313432835724\n"
     ]
    }
   ],
   "source": [
    "# Inflation rate is 3.85% as of 2023 April\n",
    "inflation_rate = 0.0385\n",
    "\n",
    "# 10 year bond yield is 7.229% as of 2023 April\n",
    "bond_yield = 0.07229\n",
    "\n",
    "# Risk free rate calculation\n",
    "risk_free_rate = ((1 + bond_yield) /  (1 + inflation_rate)) - 1\n",
    "\n",
    "print(\"Risk free rate is: \", risk_free_rate)"
   ]
  },
  {
   "cell_type": "markdown",
   "metadata": {},
   "source": [
    "`2.3` As the required data is already fetced, read the csv files(`data_old` and `data_new`) from `data` folder and store the data in respective dataframes\n",
    "<br />"
   ]
  },
  {
   "cell_type": "code",
   "execution_count": 9,
   "metadata": {},
   "outputs": [],
   "source": [
    "\n",
    "data_old = pd.read_csv('./data/data_old.csv')\n",
    "data_new = pd.read_csv('./data/data_new.csv')"
   ]
  },
  {
   "cell_type": "markdown",
   "metadata": {},
   "source": [
    "`2.4` Add new colunm `log_returns` to the dataframe to store log returns\n",
    "<br />\n",
    "The log returns are calculated by taking the difference between the log of the `closing price of the current day` and the log of the `closing price of the previous day`.\n",
    "<br />\n",
    "`d_std` is the standard deviation of the daily returns\n",
    "<br />\n",
    "calculate `annualized_volatility` by multiplying the `daily standard deviation` by the square root of `252` (number of trading days in a year)\n",
    "<br />\n",
    "![./images/daily_returns.png](./images/volatility.png)\n",
    "<br />\n",
    "`spot_price` is the closing price of the stock on the last trading day of the year"
   ]
  },
  {
   "cell_type": "code",
   "execution_count": 29,
   "metadata": {},
   "outputs": [],
   "source": [
    "data_old['log_returns'] = np.log(data_old['CH_CLOSING_PRICE'] / data_old['CH_CLOSING_PRICE'].shift(1))\n",
    "# export to csv\n",
    "data_old.to_csv(r'./data/data_old_log_returns.csv', index=False)\n",
    "\n",
    "d_std = data_old['log_returns'].std()\n",
    "annualized_volatility = d_std * 250 ** 0.5\n",
    "\n",
    "# Spot price\n",
    "spot_price = data_old['CH_CLOSING_PRICE'].iloc[-1]"
   ]
  },
  {
   "cell_type": "code",
   "execution_count": 30,
   "metadata": {},
   "outputs": [],
   "source": [
    "# Using Numpy Arrays instead of Pandas DataFrames\n",
    "# x = data_old[\"CH_CLOSING_PRICE\"].values\n",
    "# n = x.shape[0]\n",
    "# window = int(10*252)\n",
    "# # Calculating the log returns\n",
    "# log_returns = np.log(x[n-window:n-1]/x[n-window-1:n-2])\n",
    "\n",
    "# # Calculating the annualized volatility\n",
    "# annualized_volatility = np.std(log_returns) * np.sqrt(252)\n",
    "# spot_price = x[n-1]\n",
    "\n",
    "# # Print the results\n",
    "# print(annualized_volatility)\n",
    "# print(spot_price)"
   ]
  },
  {
   "cell_type": "markdown",
   "metadata": {},
   "source": [
    "`2.5` Calculate `mean price` of 30 days\n",
    "<br />\n",
    "considering the stock follows `brownian motion with drift`"
   ]
  },
  {
   "cell_type": "code",
   "execution_count": 31,
   "metadata": {},
   "outputs": [
    {
     "name": "stdout",
     "output_type": "stream",
     "text": [
      "1071.15\n",
      "[1112.87399248 1219.18855512 1158.52709123 ... 1096.19214289 1345.61174594\n",
      "  942.14854508]\n"
     ]
    }
   ],
   "source": [
    "m=10000\n",
    "T=30.0/250.0\n",
    "# for t in range(T):\n",
    "def generate_prices(spot_price, risk_free_rate, annualized_volatility, T):\n",
    "    expected_price = spot_price * np.exp((risk_free_rate - 0.5 * annualized_volatility ** 2) * T + annualized_volatility * np.sqrt(T) * np.random.normal(0, 1, m))\n",
    "    return expected_price\n",
    "mean_price = generate_prices(spot_price, risk_free_rate, annualized_volatility, T)\n",
    "print(spot_price)\n",
    "print(mean_price)"
   ]
  },
  {
   "cell_type": "markdown",
   "metadata": {},
   "source": [
    "`2.6` Set the `strike price`: the price at which the option can be exercised\n",
    "<br />\n",
    "`payoff_generation` function calculates both `call` and `put` options' payoffs\n",
    "![./images/payoff.png](./images/payoff.png)"
   ]
  },
  {
   "cell_type": "code",
   "execution_count": 32,
   "metadata": {},
   "outputs": [],
   "source": [
    "strike_price = 1070.00\n",
    "# Calculating Payoffs\n",
    "def payoff_generation(strike_price, simulation_count = 10000):\n",
    "    call_payoffs = []\n",
    "    put_payoffs = []\n",
    "    for i in range(simulation_count):\n",
    "        mean_price = generate_prices(spot_price, risk_free_rate, annualized_volatility, T)\n",
    "        call_payoff = np.maximum(mean_price - strike_price, 0)\n",
    "        put_payoff = np.maximum(strike_price - mean_price, 0)\n",
    "        call_payoffs.append(call_payoff)\n",
    "        put_payoffs.append(put_payoff)\n",
    "    return call_payoffs, put_payoffs"
   ]
  },
  {
   "cell_type": "markdown",
   "metadata": {},
   "source": [
    "`2.7` Declare function to calculate `call` and `put` options' pricing using respective payoffs"
   ]
  },
  {
   "cell_type": "code",
   "execution_count": 33,
   "metadata": {},
   "outputs": [],
   "source": [
    "# Calculating the call and put option prices\n",
    "def option_price_calculation(strike_price, simulation_count = 10000):\n",
    "    call_payoffs, put_payoffs = payoff_generation(strike_price, simulation_count)\n",
    "    call_price = np.mean(call_payoffs) * np.exp(-risk_free_rate * T)\n",
    "    put_price = np.mean(put_payoffs) * np.exp(-risk_free_rate * T)\n",
    "    return call_payoffs, put_payoffs, call_price, put_price"
   ]
  },
  {
   "cell_type": "markdown",
   "metadata": {},
   "source": [
    "`2.8` Call above declared function to calculate `call` and `put` pricing"
   ]
  },
  {
   "cell_type": "code",
   "execution_count": 34,
   "metadata": {},
   "outputs": [],
   "source": [
    "# Executing the function\n",
    "call_payoffs, put_payoffs, call_price, put_price = option_price_calculation(strike_price)"
   ]
  },
  {
   "cell_type": "code",
   "execution_count": 35,
   "metadata": {},
   "outputs": [
    {
     "name": "stdout",
     "output_type": "stream",
     "text": [
      "Call Option price is:  80.30291890028367\n",
      "Put Option price is:  74.99167181650449\n"
     ]
    }
   ],
   "source": [
    "# Printing the results\n",
    "print(\"Call Option price is: \", call_price)\n",
    "print(\"Put Option price is: \", put_price)"
   ]
  },
  {
   "cell_type": "code",
   "execution_count": 36,
   "metadata": {},
   "outputs": [
    {
     "data": {
      "text/plain": [
       "True"
      ]
     },
     "execution_count": 36,
     "metadata": {},
     "output_type": "execute_result"
    }
   ],
   "source": [
    "# Calculating Put Call Parity\n",
    "def put_call_parity_calculation(call_price, put_price, spot_price, strike_price, risk_free_rate, T):\n",
    "    lhs = call_price - put_price\n",
    "    rhs = spot_price - strike_price * np.exp(-risk_free_rate * T)\n",
    "    return round(lhs) == round(rhs)\n",
    "\n",
    "# Executing the function\n",
    "put_call_parity_calculation(call_price, put_price, spot_price, strike_price, risk_free_rate, T)"
   ]
  },
  {
   "cell_type": "code",
   "execution_count": 37,
   "metadata": {},
   "outputs": [],
   "source": [
    "# Now lets calculate the option price using Black Scholes formula\n",
    "# First we need to calculate the d1 and d2 values\n",
    "\n",
    "# Calculating d1\n",
    "def d1_calculation(spot_price, strike_price, risk_free_rate, annualized_volatility, T):\n",
    "    d1 = (np.log(spot_price/strike_price) + (risk_free_rate + 0.5 * annualized_volatility**2) * T) / (annualized_volatility * np.sqrt(T))\n",
    "    return d1\n",
    "\n",
    "# Calculating d2\n",
    "def d2_calculation(spot_price, strike_price, risk_free_rate, annualized_volatility, T):\n",
    "    d2 = (np.log(spot_price/strike_price) + (risk_free_rate - 0.5 * annualized_volatility**2) * T) / (annualized_volatility * np.sqrt(T))\n",
    "    return d2"
   ]
  },
  {
   "cell_type": "code",
   "execution_count": 38,
   "metadata": {},
   "outputs": [],
   "source": [
    "# Calculating the call and put option prices using Black Scholes formula\n",
    "def option_price_calculation_black_scholes(spot_price, strike_price, risk_free_rate, annualized_volatility, T):\n",
    "    d1 = d1_calculation(spot_price, strike_price, risk_free_rate, annualized_volatility, T)\n",
    "    d2 = d2_calculation(spot_price, strike_price, risk_free_rate, annualized_volatility, T)\n",
    "    call_price = spot_price * norm.cdf(d1) - strike_price * np.exp(-risk_free_rate * T) * norm.cdf(d2)\n",
    "    put_price = strike_price * np.exp(-risk_free_rate * T) * norm.cdf(-d2) - spot_price * norm.cdf(-d1)\n",
    "    return call_price, put_price"
   ]
  },
  {
   "cell_type": "code",
   "execution_count": 39,
   "metadata": {},
   "outputs": [
    {
     "name": "stdout",
     "output_type": "stream",
     "text": [
      "Call Option price using Black Scholes formula is:  80.30715965784196\n",
      "Put Option price using Black Scholes formula is:  74.98751405418727\n"
     ]
    }
   ],
   "source": [
    "# Executing the function\n",
    "call_price_black_scholes, put_price_black_scholes = option_price_calculation_black_scholes(spot_price, strike_price, risk_free_rate, annualized_volatility, T)\n",
    "print(\"Call Option price using Black Scholes formula is: \", call_price_black_scholes)\n",
    "print(\"Put Option price using Black Scholes formula is: \", put_price_black_scholes)"
   ]
  },
  {
   "cell_type": "code",
   "execution_count": 2,
   "metadata": {},
   "outputs": [],
   "source": [
    "import statsmodels.api as stats"
   ]
  },
  {
   "cell_type": "code",
   "execution_count": 4,
   "metadata": {},
   "outputs": [],
   "source": [
    "def ordinary_least_square_model(asset_returns, index_returns):\n",
    "    def lin_reg(x, y):\n",
    "        x = stats.add_constant(x)\n",
    "        model = stats.OLS(y, x).fit()\n",
    "        x = x[:, 1]\n",
    "        return model\n",
    "    return lin_reg(index_returns.values, asset_returns.values)"
   ]
  },
  {
   "cell_type": "code",
   "execution_count": 56,
   "metadata": {},
   "outputs": [],
   "source": [
    "index_data = pd.read_csv('./data/index_data.csv')\n",
    "new_index_data = pd.read_csv('./data/new_index_data.csv')"
   ]
  },
  {
   "cell_type": "code",
   "execution_count": 8,
   "metadata": {},
   "outputs": [
    {
     "data": {
      "text/html": [
       "<div>\n",
       "<style scoped>\n",
       "    .dataframe tbody tr th:only-of-type {\n",
       "        vertical-align: middle;\n",
       "    }\n",
       "\n",
       "    .dataframe tbody tr th {\n",
       "        vertical-align: top;\n",
       "    }\n",
       "\n",
       "    .dataframe thead th {\n",
       "        text-align: right;\n",
       "    }\n",
       "</style>\n",
       "<table border=\"1\" class=\"dataframe\">\n",
       "  <thead>\n",
       "    <tr style=\"text-align: right;\">\n",
       "      <th></th>\n",
       "      <th>HistoricalDate</th>\n",
       "      <th>Index Name</th>\n",
       "      <th>INDEX_NAME</th>\n",
       "      <th>OPEN</th>\n",
       "      <th>HIGH</th>\n",
       "      <th>LOW</th>\n",
       "      <th>CLOSE</th>\n",
       "    </tr>\n",
       "  </thead>\n",
       "  <tbody>\n",
       "    <tr>\n",
       "      <th>0</th>\n",
       "      <td>2002-01-01</td>\n",
       "      <td>Nifty Bank</td>\n",
       "      <td>Nifty Bank</td>\n",
       "      <td>NaN</td>\n",
       "      <td>NaN</td>\n",
       "      <td>NaN</td>\n",
       "      <td>870.25</td>\n",
       "    </tr>\n",
       "    <tr>\n",
       "      <th>1</th>\n",
       "      <td>2002-01-02</td>\n",
       "      <td>Nifty Bank</td>\n",
       "      <td>Nifty Bank</td>\n",
       "      <td>NaN</td>\n",
       "      <td>NaN</td>\n",
       "      <td>NaN</td>\n",
       "      <td>878.02</td>\n",
       "    </tr>\n",
       "    <tr>\n",
       "      <th>2</th>\n",
       "      <td>2002-01-03</td>\n",
       "      <td>Nifty Bank</td>\n",
       "      <td>Nifty Bank</td>\n",
       "      <td>NaN</td>\n",
       "      <td>NaN</td>\n",
       "      <td>NaN</td>\n",
       "      <td>903.03</td>\n",
       "    </tr>\n",
       "    <tr>\n",
       "      <th>3</th>\n",
       "      <td>2002-01-04</td>\n",
       "      <td>Nifty Bank</td>\n",
       "      <td>Nifty Bank</td>\n",
       "      <td>NaN</td>\n",
       "      <td>NaN</td>\n",
       "      <td>NaN</td>\n",
       "      <td>903.90</td>\n",
       "    </tr>\n",
       "    <tr>\n",
       "      <th>4</th>\n",
       "      <td>2002-01-07</td>\n",
       "      <td>Nifty Bank</td>\n",
       "      <td>Nifty Bank</td>\n",
       "      <td>NaN</td>\n",
       "      <td>NaN</td>\n",
       "      <td>NaN</td>\n",
       "      <td>886.59</td>\n",
       "    </tr>\n",
       "    <tr>\n",
       "      <th>...</th>\n",
       "      <td>...</td>\n",
       "      <td>...</td>\n",
       "      <td>...</td>\n",
       "      <td>...</td>\n",
       "      <td>...</td>\n",
       "      <td>...</td>\n",
       "      <td>...</td>\n",
       "    </tr>\n",
       "    <tr>\n",
       "      <th>3546</th>\n",
       "      <td>2016-03-23</td>\n",
       "      <td>Nifty Bank</td>\n",
       "      <td>Nifty Bank</td>\n",
       "      <td>15884.25</td>\n",
       "      <td>15919.60</td>\n",
       "      <td>15799.95</td>\n",
       "      <td>15887.00</td>\n",
       "    </tr>\n",
       "    <tr>\n",
       "      <th>3547</th>\n",
       "      <td>2016-03-28</td>\n",
       "      <td>Nifty Bank</td>\n",
       "      <td>Nifty Bank</td>\n",
       "      <td>15867.75</td>\n",
       "      <td>15890.70</td>\n",
       "      <td>15522.20</td>\n",
       "      <td>15604.00</td>\n",
       "    </tr>\n",
       "    <tr>\n",
       "      <th>3548</th>\n",
       "      <td>2016-03-29</td>\n",
       "      <td>Nifty Bank</td>\n",
       "      <td>Nifty Bank</td>\n",
       "      <td>15583.10</td>\n",
       "      <td>15774.10</td>\n",
       "      <td>15580.80</td>\n",
       "      <td>15666.00</td>\n",
       "    </tr>\n",
       "    <tr>\n",
       "      <th>3549</th>\n",
       "      <td>2016-03-30</td>\n",
       "      <td>Nifty Bank</td>\n",
       "      <td>Nifty Bank</td>\n",
       "      <td>15829.60</td>\n",
       "      <td>16167.50</td>\n",
       "      <td>15762.20</td>\n",
       "      <td>16134.00</td>\n",
       "    </tr>\n",
       "    <tr>\n",
       "      <th>3550</th>\n",
       "      <td>2016-03-31</td>\n",
       "      <td>Nifty Bank</td>\n",
       "      <td>Nifty Bank</td>\n",
       "      <td>16134.40</td>\n",
       "      <td>16282.75</td>\n",
       "      <td>16062.05</td>\n",
       "      <td>16141.00</td>\n",
       "    </tr>\n",
       "  </tbody>\n",
       "</table>\n",
       "<p>3551 rows × 7 columns</p>\n",
       "</div>"
      ],
      "text/plain": [
       "     HistoricalDate  Index Name  INDEX_NAME      OPEN      HIGH       LOW  \\\n",
       "0        2002-01-01  Nifty Bank  Nifty Bank       NaN       NaN       NaN   \n",
       "1        2002-01-02  Nifty Bank  Nifty Bank       NaN       NaN       NaN   \n",
       "2        2002-01-03  Nifty Bank  Nifty Bank       NaN       NaN       NaN   \n",
       "3        2002-01-04  Nifty Bank  Nifty Bank       NaN       NaN       NaN   \n",
       "4        2002-01-07  Nifty Bank  Nifty Bank       NaN       NaN       NaN   \n",
       "...             ...         ...         ...       ...       ...       ...   \n",
       "3546     2016-03-23  Nifty Bank  Nifty Bank  15884.25  15919.60  15799.95   \n",
       "3547     2016-03-28  Nifty Bank  Nifty Bank  15867.75  15890.70  15522.20   \n",
       "3548     2016-03-29  Nifty Bank  Nifty Bank  15583.10  15774.10  15580.80   \n",
       "3549     2016-03-30  Nifty Bank  Nifty Bank  15829.60  16167.50  15762.20   \n",
       "3550     2016-03-31  Nifty Bank  Nifty Bank  16134.40  16282.75  16062.05   \n",
       "\n",
       "         CLOSE  \n",
       "0       870.25  \n",
       "1       878.02  \n",
       "2       903.03  \n",
       "3       903.90  \n",
       "4       886.59  \n",
       "...        ...  \n",
       "3546  15887.00  \n",
       "3547  15604.00  \n",
       "3548  15666.00  \n",
       "3549  16134.00  \n",
       "3550  16141.00  \n",
       "\n",
       "[3551 rows x 7 columns]"
      ]
     },
     "execution_count": 8,
     "metadata": {},
     "output_type": "execute_result"
    }
   ],
   "source": [
    "index_data"
   ]
  },
  {
   "cell_type": "code",
   "execution_count": 59,
   "metadata": {},
   "outputs": [],
   "source": [
    "index_data['Returns'] = index_data['CLOSE'].pct_change()\n",
    "index_data_returns = index_data.Returns[1:]\n",
    "\n",
    "new_index_data['Returns'] = new_index_data['CLOSE'].pct_change()\n",
    "new_index_data_returns = new_index_data.Returns[1:]\n",
    "\n",
    "data_old['Returns'] = data_old['CH_CLOSING_PRICE'].pct_change()\n",
    "asset_data_returns = data_old.Returns[1:]"
   ]
  },
  {
   "cell_type": "code",
   "execution_count": 47,
   "metadata": {},
   "outputs": [],
   "source": [
    "asset_data_returns = asset_data_returns[-1000:]\n",
    "index_data_returns = index_data_returns[-1000:]\n",
    "asset_data_returns = np.array(asset_data_returns)\n",
    "index_data_returns = np.array(index_data_returns)"
   ]
  },
  {
   "cell_type": "code",
   "execution_count": 48,
   "metadata": {},
   "outputs": [
    {
     "data": {
      "text/plain": [
       "(300,)"
      ]
     },
     "execution_count": 48,
     "metadata": {},
     "output_type": "execute_result"
    }
   ],
   "source": [
    "asset_data_returns.shape"
   ]
  },
  {
   "cell_type": "code",
   "execution_count": 49,
   "metadata": {},
   "outputs": [
    {
     "data": {
      "text/plain": [
       "(300,)"
      ]
     },
     "execution_count": 49,
     "metadata": {},
     "output_type": "execute_result"
    }
   ],
   "source": [
    "index_data_returns.shape"
   ]
  },
  {
   "cell_type": "code",
   "execution_count": 50,
   "metadata": {},
   "outputs": [],
   "source": [
    "def ordinary_least_square_model(asset_returns, index_returns):\n",
    "    asset_returns = stats.add_constant(asset_returns)\n",
    "    model = stats.OLS(index_returns, asset_returns).fit()\n",
    "    asset_returns = asset_returns[:, 1]\n",
    "    return model"
   ]
  },
  {
   "cell_type": "code",
   "execution_count": 51,
   "metadata": {},
   "outputs": [
    {
     "data": {
      "text/plain": [
       "<statsmodels.regression.linear_model.RegressionResultsWrapper at 0x282135700>"
      ]
     },
     "execution_count": 51,
     "metadata": {},
     "output_type": "execute_result"
    }
   ],
   "source": [
    "model = ordinary_least_square_model(asset_data_returns, index_data_returns)\n",
    "model\n"
   ]
  },
  {
   "cell_type": "code",
   "execution_count": 52,
   "metadata": {},
   "outputs": [],
   "source": [
    "alpha = model.params[0]\n",
    "beta = model.params[1]"
   ]
  },
  {
   "cell_type": "code",
   "execution_count": 53,
   "metadata": {},
   "outputs": [
    {
     "name": "stdout",
     "output_type": "stream",
     "text": [
      "Alpha is:  -0.0004121852965254072\n",
      "Beta is:  0.10030228243657494\n"
     ]
    }
   ],
   "source": [
    "print(\"Alpha is: \", alpha)\n",
    "print(\"Beta is: \", beta)"
   ]
  },
  {
   "cell_type": "code",
   "execution_count": 54,
   "metadata": {},
   "outputs": [
    {
     "data": {
      "image/png": "[encoded data removed]",
      "text/plain": [
       "<Figure size 1000x1000 with 1 Axes>"
      ]
     },
     "metadata": {},
     "output_type": "display_data"
    }
   ],
   "source": [
    "fig = plt.figure(figsize=(10, 10))\n",
    "plt.plot(index_data_returns, asset_data_returns, 'r.')\n",
    "ax = plt.axis()\n",
    "x = np.linspace(ax[0], ax[1] + 0.01)\n",
    "plt.plot(x, alpha + beta * x, 'b', lw=2)\n",
    "\n",
    "plt.grid(True)\n",
    "plt.axis('tight')\n",
    "plt.xlabel('SNP 500 Returns')\n",
    "plt.ylabel('{} returns')\n",
    "plt.show()"
   ]
  },
  {
   "cell_type": "code",
   "execution_count": 64,
   "metadata": {},
   "outputs": [],
   "source": [
    "# Calculating the asset returns\n",
    "predicted_asset_returns = alpha + beta * new_index_data_returns"
   ]
  },
  {
   "cell_type": "code",
   "execution_count": 66,
   "metadata": {},
   "outputs": [
    {
     "data": {
      "text/plain": [
       "1      0.999687\n",
       "2      0.996521\n",
       "3      0.999211\n",
       "4      0.998908\n",
       "5      0.999833\n",
       "         ...   \n",
       "243    0.999274\n",
       "244    1.000393\n",
       "245    1.000372\n",
       "246    1.000662\n",
       "247    0.998771\n",
       "Name: Returns, Length: 247, dtype: float64"
      ]
     },
     "execution_count": 66,
     "metadata": {},
     "output_type": "execute_result"
    }
   ],
   "source": [
    "predicted_asset_returns = 1 + predicted_asset_returns\n",
    "predicted_asset_returns"
   ]
  },
  {
   "cell_type": "code",
   "execution_count": 67,
   "metadata": {},
   "outputs": [
    {
     "data": {
      "text/plain": [
       "1      1070.814771\n",
       "2      1067.089545\n",
       "3      1066.247358\n",
       "4      1065.082848\n",
       "5      1064.905237\n",
       "          ...     \n",
       "243     996.253442\n",
       "244     996.644832\n",
       "245     997.015859\n",
       "246     997.675479\n",
       "247     996.449628\n",
       "Name: Returns, Length: 247, dtype: float64"
      ]
     },
     "execution_count": 67,
     "metadata": {},
     "output_type": "execute_result"
    }
   ],
   "source": [
    "predicted_asset_price = data_old['CH_CLOSING_PRICE'].iloc[-1] * predicted_asset_returns.cumprod()\n",
    "predicted_asset_price"
   ]
  },
  {
   "cell_type": "code",
   "execution_count": null,
   "metadata": {},
   "outputs": [],
   "source": []
  }
 ],
 "metadata": {
  "kernelspec": {
   "display_name": "Python 3 (ipykernel)",
   "language": "python",
   "name": "python3"
  },
  "language_info": {
   "codemirror_mode": {
    "name": "ipython",
    "version": 3
   },
   "file_extension": ".py",
   "mimetype": "text/x-python",
   "name": "python",
   "nbconvert_exporter": "python",
   "pygments_lexer": "ipython3",
   "version": "3.8.16"
  }
 },
 "nbformat": 4,
 "nbformat_minor": 2
}
