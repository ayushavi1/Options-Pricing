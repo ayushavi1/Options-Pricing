{
 "cells": [
  {
   "attachments": {},
   "cell_type": "markdown",
   "metadata": {},
   "source": [
    "# `1` Stock Prices"
   ]
  },
  {
   "attachments": {},
   "cell_type": "markdown",
   "metadata": {},
   "source": [
    "## `1.1` Linear Regression\n",
    "Predicting stock prices using Linear Regression\n",
    "\n",
    "\n",
    "import all the required dependencies."
   ]
  },
  {
   "cell_type": "code",
   "execution_count": 5,
   "metadata": {},
   "outputs": [],
   "source": [
    "import statsmodels.api as stats\n",
    "import numpy as np\n",
    "import pandas as pd\n",
    "import matplotlib.pyplot as plt\n",
    "from nsepython import *\n",
    "from datetime import date\n",
    "from scipy.stats import norm"
   ]
  },
  {
   "attachments": {},
   "cell_type": "markdown",
   "metadata": {},
   "source": [
    "run `fetch_data.py` to fetch data\n",
    "<br />\n",
    "if the data is already fetched, skip this step"
   ]
  },
  {
   "cell_type": "code",
   "execution_count": 6,
   "metadata": {},
   "outputs": [],
   "source": [
    "index_data = pd.read_csv('./data/index_data.csv')\n",
    "new_index_data = pd.read_csv('./data/new_index_data.csv')\n",
    "data_old = pd.read_csv('./data/data_old.csv')"
   ]
  },
  {
   "cell_type": "code",
   "execution_count": 7,
   "metadata": {},
   "outputs": [
    {
     "data": {
      "text/html": [
       "<div>\n",
       "<style scoped>\n",
       "    .dataframe tbody tr th:only-of-type {\n",
       "        vertical-align: middle;\n",
       "    }\n",
       "\n",
       "    .dataframe tbody tr th {\n",
       "        vertical-align: top;\n",
       "    }\n",
       "\n",
       "    .dataframe thead th {\n",
       "        text-align: right;\n",
       "    }\n",
       "</style>\n",
       "<table border=\"1\" class=\"dataframe\">\n",
       "  <thead>\n",
       "    <tr style=\"text-align: right;\">\n",
       "      <th></th>\n",
       "      <th>HistoricalDate</th>\n",
       "      <th>Index Name</th>\n",
       "      <th>INDEX_NAME</th>\n",
       "      <th>OPEN</th>\n",
       "      <th>HIGH</th>\n",
       "      <th>LOW</th>\n",
       "      <th>CLOSE</th>\n",
       "    </tr>\n",
       "  </thead>\n",
       "  <tbody>\n",
       "    <tr>\n",
       "      <th>0</th>\n",
       "      <td>2002-01-01</td>\n",
       "      <td>Nifty Bank</td>\n",
       "      <td>Nifty Bank</td>\n",
       "      <td>NaN</td>\n",
       "      <td>NaN</td>\n",
       "      <td>NaN</td>\n",
       "      <td>870.25</td>\n",
       "    </tr>\n",
       "    <tr>\n",
       "      <th>1</th>\n",
       "      <td>2002-01-02</td>\n",
       "      <td>Nifty Bank</td>\n",
       "      <td>Nifty Bank</td>\n",
       "      <td>NaN</td>\n",
       "      <td>NaN</td>\n",
       "      <td>NaN</td>\n",
       "      <td>878.02</td>\n",
       "    </tr>\n",
       "    <tr>\n",
       "      <th>2</th>\n",
       "      <td>2002-01-03</td>\n",
       "      <td>Nifty Bank</td>\n",
       "      <td>Nifty Bank</td>\n",
       "      <td>NaN</td>\n",
       "      <td>NaN</td>\n",
       "      <td>NaN</td>\n",
       "      <td>903.03</td>\n",
       "    </tr>\n",
       "    <tr>\n",
       "      <th>3</th>\n",
       "      <td>2002-01-04</td>\n",
       "      <td>Nifty Bank</td>\n",
       "      <td>Nifty Bank</td>\n",
       "      <td>NaN</td>\n",
       "      <td>NaN</td>\n",
       "      <td>NaN</td>\n",
       "      <td>903.90</td>\n",
       "    </tr>\n",
       "    <tr>\n",
       "      <th>4</th>\n",
       "      <td>2002-01-07</td>\n",
       "      <td>Nifty Bank</td>\n",
       "      <td>Nifty Bank</td>\n",
       "      <td>NaN</td>\n",
       "      <td>NaN</td>\n",
       "      <td>NaN</td>\n",
       "      <td>886.59</td>\n",
       "    </tr>\n",
       "    <tr>\n",
       "      <th>...</th>\n",
       "      <td>...</td>\n",
       "      <td>...</td>\n",
       "      <td>...</td>\n",
       "      <td>...</td>\n",
       "      <td>...</td>\n",
       "      <td>...</td>\n",
       "      <td>...</td>\n",
       "    </tr>\n",
       "    <tr>\n",
       "      <th>3546</th>\n",
       "      <td>2016-03-23</td>\n",
       "      <td>Nifty Bank</td>\n",
       "      <td>Nifty Bank</td>\n",
       "      <td>15884.25</td>\n",
       "      <td>15919.60</td>\n",
       "      <td>15799.95</td>\n",
       "      <td>15887.00</td>\n",
       "    </tr>\n",
       "    <tr>\n",
       "      <th>3547</th>\n",
       "      <td>2016-03-28</td>\n",
       "      <td>Nifty Bank</td>\n",
       "      <td>Nifty Bank</td>\n",
       "      <td>15867.75</td>\n",
       "      <td>15890.70</td>\n",
       "      <td>15522.20</td>\n",
       "      <td>15604.00</td>\n",
       "    </tr>\n",
       "    <tr>\n",
       "      <th>3548</th>\n",
       "      <td>2016-03-29</td>\n",
       "      <td>Nifty Bank</td>\n",
       "      <td>Nifty Bank</td>\n",
       "      <td>15583.10</td>\n",
       "      <td>15774.10</td>\n",
       "      <td>15580.80</td>\n",
       "      <td>15666.00</td>\n",
       "    </tr>\n",
       "    <tr>\n",
       "      <th>3549</th>\n",
       "      <td>2016-03-30</td>\n",
       "      <td>Nifty Bank</td>\n",
       "      <td>Nifty Bank</td>\n",
       "      <td>15829.60</td>\n",
       "      <td>16167.50</td>\n",
       "      <td>15762.20</td>\n",
       "      <td>16134.00</td>\n",
       "    </tr>\n",
       "    <tr>\n",
       "      <th>3550</th>\n",
       "      <td>2016-03-31</td>\n",
       "      <td>Nifty Bank</td>\n",
       "      <td>Nifty Bank</td>\n",
       "      <td>16134.40</td>\n",
       "      <td>16282.75</td>\n",
       "      <td>16062.05</td>\n",
       "      <td>16141.00</td>\n",
       "    </tr>\n",
       "  </tbody>\n",
       "</table>\n",
       "<p>3551 rows × 7 columns</p>\n",
       "</div>"
      ],
      "text/plain": [
       "     HistoricalDate  Index Name  INDEX_NAME      OPEN      HIGH       LOW  \\\n",
       "0        2002-01-01  Nifty Bank  Nifty Bank       NaN       NaN       NaN   \n",
       "1        2002-01-02  Nifty Bank  Nifty Bank       NaN       NaN       NaN   \n",
       "2        2002-01-03  Nifty Bank  Nifty Bank       NaN       NaN       NaN   \n",
       "3        2002-01-04  Nifty Bank  Nifty Bank       NaN       NaN       NaN   \n",
       "4        2002-01-07  Nifty Bank  Nifty Bank       NaN       NaN       NaN   \n",
       "...             ...         ...         ...       ...       ...       ...   \n",
       "3546     2016-03-23  Nifty Bank  Nifty Bank  15884.25  15919.60  15799.95   \n",
       "3547     2016-03-28  Nifty Bank  Nifty Bank  15867.75  15890.70  15522.20   \n",
       "3548     2016-03-29  Nifty Bank  Nifty Bank  15583.10  15774.10  15580.80   \n",
       "3549     2016-03-30  Nifty Bank  Nifty Bank  15829.60  16167.50  15762.20   \n",
       "3550     2016-03-31  Nifty Bank  Nifty Bank  16134.40  16282.75  16062.05   \n",
       "\n",
       "         CLOSE  \n",
       "0       870.25  \n",
       "1       878.02  \n",
       "2       903.03  \n",
       "3       903.90  \n",
       "4       886.59  \n",
       "...        ...  \n",
       "3546  15887.00  \n",
       "3547  15604.00  \n",
       "3548  15666.00  \n",
       "3549  16134.00  \n",
       "3550  16141.00  \n",
       "\n",
       "[3551 rows x 7 columns]"
      ]
     },
     "execution_count": 7,
     "metadata": {},
     "output_type": "execute_result"
    }
   ],
   "source": [
    "index_data"
   ]
  },
  {
   "cell_type": "code",
   "execution_count": 8,
   "metadata": {},
   "outputs": [
    {
     "data": {
      "text/html": [
       "<div>\n",
       "<style scoped>\n",
       "    .dataframe tbody tr th:only-of-type {\n",
       "        vertical-align: middle;\n",
       "    }\n",
       "\n",
       "    .dataframe tbody tr th {\n",
       "        vertical-align: top;\n",
       "    }\n",
       "\n",
       "    .dataframe thead th {\n",
       "        text-align: right;\n",
       "    }\n",
       "</style>\n",
       "<table border=\"1\" class=\"dataframe\">\n",
       "  <thead>\n",
       "    <tr style=\"text-align: right;\">\n",
       "      <th></th>\n",
       "      <th>HistoricalDate</th>\n",
       "      <th>Index Name</th>\n",
       "      <th>INDEX_NAME</th>\n",
       "      <th>OPEN</th>\n",
       "      <th>HIGH</th>\n",
       "      <th>LOW</th>\n",
       "      <th>CLOSE</th>\n",
       "    </tr>\n",
       "  </thead>\n",
       "  <tbody>\n",
       "    <tr>\n",
       "      <th>0</th>\n",
       "      <td>2016-04-01</td>\n",
       "      <td>Nifty Bank</td>\n",
       "      <td>Nifty Bank</td>\n",
       "      <td>16099.65</td>\n",
       "      <td>16235.80</td>\n",
       "      <td>16020.60</td>\n",
       "      <td>16174.0</td>\n",
       "    </tr>\n",
       "    <tr>\n",
       "      <th>1</th>\n",
       "      <td>2016-04-04</td>\n",
       "      <td>Nifty Bank</td>\n",
       "      <td>Nifty Bank</td>\n",
       "      <td>16236.90</td>\n",
       "      <td>16278.50</td>\n",
       "      <td>16046.50</td>\n",
       "      <td>16190.0</td>\n",
       "    </tr>\n",
       "    <tr>\n",
       "      <th>2</th>\n",
       "      <td>2016-04-05</td>\n",
       "      <td>Nifty Bank</td>\n",
       "      <td>Nifty Bank</td>\n",
       "      <td>16127.45</td>\n",
       "      <td>16147.15</td>\n",
       "      <td>15659.75</td>\n",
       "      <td>15695.0</td>\n",
       "    </tr>\n",
       "    <tr>\n",
       "      <th>3</th>\n",
       "      <td>2016-04-06</td>\n",
       "      <td>Nifty Bank</td>\n",
       "      <td>Nifty Bank</td>\n",
       "      <td>15750.15</td>\n",
       "      <td>15768.55</td>\n",
       "      <td>15578.55</td>\n",
       "      <td>15636.0</td>\n",
       "    </tr>\n",
       "    <tr>\n",
       "      <th>4</th>\n",
       "      <td>2016-04-07</td>\n",
       "      <td>Nifty Bank</td>\n",
       "      <td>Nifty Bank</td>\n",
       "      <td>15668.95</td>\n",
       "      <td>15726.60</td>\n",
       "      <td>15458.05</td>\n",
       "      <td>15530.0</td>\n",
       "    </tr>\n",
       "    <tr>\n",
       "      <th>...</th>\n",
       "      <td>...</td>\n",
       "      <td>...</td>\n",
       "      <td>...</td>\n",
       "      <td>...</td>\n",
       "      <td>...</td>\n",
       "      <td>...</td>\n",
       "      <td>...</td>\n",
       "    </tr>\n",
       "    <tr>\n",
       "      <th>243</th>\n",
       "      <td>2017-03-27</td>\n",
       "      <td>Nifty Bank</td>\n",
       "      <td>Nifty Bank</td>\n",
       "      <td>21178.10</td>\n",
       "      <td>21179.20</td>\n",
       "      <td>20979.55</td>\n",
       "      <td>21056.0</td>\n",
       "    </tr>\n",
       "    <tr>\n",
       "      <th>244</th>\n",
       "      <td>2017-03-28</td>\n",
       "      <td>Nifty Bank</td>\n",
       "      <td>Nifty Bank</td>\n",
       "      <td>21229.00</td>\n",
       "      <td>21264.95</td>\n",
       "      <td>21145.00</td>\n",
       "      <td>21225.0</td>\n",
       "    </tr>\n",
       "    <tr>\n",
       "      <th>245</th>\n",
       "      <td>2017-03-29</td>\n",
       "      <td>Nifty Bank</td>\n",
       "      <td>Nifty Bank</td>\n",
       "      <td>21291.45</td>\n",
       "      <td>21418.60</td>\n",
       "      <td>21255.75</td>\n",
       "      <td>21391.0</td>\n",
       "    </tr>\n",
       "    <tr>\n",
       "      <th>246</th>\n",
       "      <td>2017-03-30</td>\n",
       "      <td>Nifty Bank</td>\n",
       "      <td>Nifty Bank</td>\n",
       "      <td>21374.35</td>\n",
       "      <td>21696.00</td>\n",
       "      <td>21331.90</td>\n",
       "      <td>21620.0</td>\n",
       "    </tr>\n",
       "    <tr>\n",
       "      <th>247</th>\n",
       "      <td>2017-03-31</td>\n",
       "      <td>Nifty Bank</td>\n",
       "      <td>Nifty Bank</td>\n",
       "      <td>21551.85</td>\n",
       "      <td>21574.15</td>\n",
       "      <td>21414.00</td>\n",
       "      <td>21444.0</td>\n",
       "    </tr>\n",
       "  </tbody>\n",
       "</table>\n",
       "<p>248 rows × 7 columns</p>\n",
       "</div>"
      ],
      "text/plain": [
       "    HistoricalDate  Index Name  INDEX_NAME      OPEN      HIGH       LOW  \\\n",
       "0       2016-04-01  Nifty Bank  Nifty Bank  16099.65  16235.80  16020.60   \n",
       "1       2016-04-04  Nifty Bank  Nifty Bank  16236.90  16278.50  16046.50   \n",
       "2       2016-04-05  Nifty Bank  Nifty Bank  16127.45  16147.15  15659.75   \n",
       "3       2016-04-06  Nifty Bank  Nifty Bank  15750.15  15768.55  15578.55   \n",
       "4       2016-04-07  Nifty Bank  Nifty Bank  15668.95  15726.60  15458.05   \n",
       "..             ...         ...         ...       ...       ...       ...   \n",
       "243     2017-03-27  Nifty Bank  Nifty Bank  21178.10  21179.20  20979.55   \n",
       "244     2017-03-28  Nifty Bank  Nifty Bank  21229.00  21264.95  21145.00   \n",
       "245     2017-03-29  Nifty Bank  Nifty Bank  21291.45  21418.60  21255.75   \n",
       "246     2017-03-30  Nifty Bank  Nifty Bank  21374.35  21696.00  21331.90   \n",
       "247     2017-03-31  Nifty Bank  Nifty Bank  21551.85  21574.15  21414.00   \n",
       "\n",
       "       CLOSE  \n",
       "0    16174.0  \n",
       "1    16190.0  \n",
       "2    15695.0  \n",
       "3    15636.0  \n",
       "4    15530.0  \n",
       "..       ...  \n",
       "243  21056.0  \n",
       "244  21225.0  \n",
       "245  21391.0  \n",
       "246  21620.0  \n",
       "247  21444.0  \n",
       "\n",
       "[248 rows x 7 columns]"
      ]
     },
     "execution_count": 8,
     "metadata": {},
     "output_type": "execute_result"
    }
   ],
   "source": [
    "new_index_data"
   ]
  },
  {
   "cell_type": "code",
   "execution_count": 9,
   "metadata": {},
   "outputs": [
    {
     "data": {
      "text/html": [
       "<div>\n",
       "<style scoped>\n",
       "    .dataframe tbody tr th:only-of-type {\n",
       "        vertical-align: middle;\n",
       "    }\n",
       "\n",
       "    .dataframe tbody tr th {\n",
       "        vertical-align: top;\n",
       "    }\n",
       "\n",
       "    .dataframe thead th {\n",
       "        text-align: right;\n",
       "    }\n",
       "</style>\n",
       "<table border=\"1\" class=\"dataframe\">\n",
       "  <thead>\n",
       "    <tr style=\"text-align: right;\">\n",
       "      <th></th>\n",
       "      <th>_id</th>\n",
       "      <th>CH_SYMBOL</th>\n",
       "      <th>CH_SERIES</th>\n",
       "      <th>CH_MARKET_TYPE</th>\n",
       "      <th>CH_TRADE_HIGH_PRICE</th>\n",
       "      <th>CH_TRADE_LOW_PRICE</th>\n",
       "      <th>CH_OPENING_PRICE</th>\n",
       "      <th>CH_CLOSING_PRICE</th>\n",
       "      <th>CH_LAST_TRADED_PRICE</th>\n",
       "      <th>CH_PREVIOUS_CLS_PRICE</th>\n",
       "      <th>...</th>\n",
       "      <th>CH_ISIN</th>\n",
       "      <th>CH_TIMESTAMP</th>\n",
       "      <th>TIMESTAMP</th>\n",
       "      <th>createdAt</th>\n",
       "      <th>updatedAt</th>\n",
       "      <th>__v</th>\n",
       "      <th>SLBMH_TOT_VAL</th>\n",
       "      <th>VWAP</th>\n",
       "      <th>mTIMESTAMP</th>\n",
       "      <th>CA</th>\n",
       "    </tr>\n",
       "  </thead>\n",
       "  <tbody>\n",
       "    <tr>\n",
       "      <th>0</th>\n",
       "      <td>641f31b44708d50007274d25</td>\n",
       "      <td>HDFCBANK</td>\n",
       "      <td>EQ</td>\n",
       "      <td>N</td>\n",
       "      <td>230.00</td>\n",
       "      <td>222.75</td>\n",
       "      <td>228.00</td>\n",
       "      <td>225.05</td>\n",
       "      <td>226.00</td>\n",
       "      <td>225.60</td>\n",
       "      <td>...</td>\n",
       "      <td>NaN</td>\n",
       "      <td>2002-01-01</td>\n",
       "      <td>2001-12-31T18:30:00.000Z</td>\n",
       "      <td>2023-03-25T17:39:00.692Z</td>\n",
       "      <td>2023-03-25T17:39:00.692Z</td>\n",
       "      <td>0</td>\n",
       "      <td>NaN</td>\n",
       "      <td>225.02</td>\n",
       "      <td>01-Jan-2002</td>\n",
       "      <td>NaN</td>\n",
       "    </tr>\n",
       "    <tr>\n",
       "      <th>1</th>\n",
       "      <td>641f32744438f60007b7ce4d</td>\n",
       "      <td>HDFCBANK</td>\n",
       "      <td>EQ</td>\n",
       "      <td>N</td>\n",
       "      <td>225.75</td>\n",
       "      <td>223.00</td>\n",
       "      <td>224.00</td>\n",
       "      <td>225.00</td>\n",
       "      <td>225.00</td>\n",
       "      <td>225.05</td>\n",
       "      <td>...</td>\n",
       "      <td>NaN</td>\n",
       "      <td>2002-01-02</td>\n",
       "      <td>2002-01-01T18:30:00.000Z</td>\n",
       "      <td>2023-03-25T17:42:12.909Z</td>\n",
       "      <td>2023-03-25T17:42:12.909Z</td>\n",
       "      <td>0</td>\n",
       "      <td>NaN</td>\n",
       "      <td>224.53</td>\n",
       "      <td>02-Jan-2002</td>\n",
       "      <td>NaN</td>\n",
       "    </tr>\n",
       "    <tr>\n",
       "      <th>2</th>\n",
       "      <td>641f3270adde0b0007d23e28</td>\n",
       "      <td>HDFCBANK</td>\n",
       "      <td>EQ</td>\n",
       "      <td>N</td>\n",
       "      <td>227.95</td>\n",
       "      <td>222.20</td>\n",
       "      <td>225.00</td>\n",
       "      <td>226.25</td>\n",
       "      <td>227.75</td>\n",
       "      <td>225.00</td>\n",
       "      <td>...</td>\n",
       "      <td>NaN</td>\n",
       "      <td>2002-01-03</td>\n",
       "      <td>2002-01-02T18:30:00.000Z</td>\n",
       "      <td>2023-03-25T17:42:08.208Z</td>\n",
       "      <td>2023-03-25T17:42:08.208Z</td>\n",
       "      <td>0</td>\n",
       "      <td>NaN</td>\n",
       "      <td>224.70</td>\n",
       "      <td>03-Jan-2002</td>\n",
       "      <td>NaN</td>\n",
       "    </tr>\n",
       "    <tr>\n",
       "      <th>3</th>\n",
       "      <td>641f326a341dfa0007d37446</td>\n",
       "      <td>HDFCBANK</td>\n",
       "      <td>EQ</td>\n",
       "      <td>N</td>\n",
       "      <td>228.00</td>\n",
       "      <td>223.50</td>\n",
       "      <td>225.00</td>\n",
       "      <td>223.95</td>\n",
       "      <td>223.75</td>\n",
       "      <td>226.25</td>\n",
       "      <td>...</td>\n",
       "      <td>NaN</td>\n",
       "      <td>2002-01-04</td>\n",
       "      <td>2002-01-03T18:30:00.000Z</td>\n",
       "      <td>2023-03-25T17:42:02.801Z</td>\n",
       "      <td>2023-03-25T17:42:02.801Z</td>\n",
       "      <td>0</td>\n",
       "      <td>NaN</td>\n",
       "      <td>224.49</td>\n",
       "      <td>04-Jan-2002</td>\n",
       "      <td>NaN</td>\n",
       "    </tr>\n",
       "    <tr>\n",
       "      <th>4</th>\n",
       "      <td>641f31364708d500072748bd</td>\n",
       "      <td>HDFCBANK</td>\n",
       "      <td>EQ</td>\n",
       "      <td>N</td>\n",
       "      <td>226.35</td>\n",
       "      <td>221.55</td>\n",
       "      <td>224.00</td>\n",
       "      <td>223.95</td>\n",
       "      <td>224.15</td>\n",
       "      <td>223.95</td>\n",
       "      <td>...</td>\n",
       "      <td>NaN</td>\n",
       "      <td>2002-01-07</td>\n",
       "      <td>2002-01-06T18:30:00.000Z</td>\n",
       "      <td>2023-03-25T17:36:54.390Z</td>\n",
       "      <td>2023-03-25T17:36:54.390Z</td>\n",
       "      <td>0</td>\n",
       "      <td>NaN</td>\n",
       "      <td>223.79</td>\n",
       "      <td>07-Jan-2002</td>\n",
       "      <td>NaN</td>\n",
       "    </tr>\n",
       "    <tr>\n",
       "      <th>...</th>\n",
       "      <td>...</td>\n",
       "      <td>...</td>\n",
       "      <td>...</td>\n",
       "      <td>...</td>\n",
       "      <td>...</td>\n",
       "      <td>...</td>\n",
       "      <td>...</td>\n",
       "      <td>...</td>\n",
       "      <td>...</td>\n",
       "      <td>...</td>\n",
       "      <td>...</td>\n",
       "      <td>...</td>\n",
       "      <td>...</td>\n",
       "      <td>...</td>\n",
       "      <td>...</td>\n",
       "      <td>...</td>\n",
       "      <td>...</td>\n",
       "      <td>...</td>\n",
       "      <td>...</td>\n",
       "      <td>...</td>\n",
       "      <td>...</td>\n",
       "    </tr>\n",
       "    <tr>\n",
       "      <th>3631</th>\n",
       "      <td>641ebc1f4438f60007b5a3a4</td>\n",
       "      <td>HDFCBANK</td>\n",
       "      <td>EQ</td>\n",
       "      <td>N</td>\n",
       "      <td>1053.00</td>\n",
       "      <td>1041.65</td>\n",
       "      <td>1045.00</td>\n",
       "      <td>1047.50</td>\n",
       "      <td>1052.30</td>\n",
       "      <td>1049.35</td>\n",
       "      <td>...</td>\n",
       "      <td>INE040A01026</td>\n",
       "      <td>2016-03-28</td>\n",
       "      <td>2016-03-27T18:30:00.000Z</td>\n",
       "      <td>2023-03-25T09:17:19.098Z</td>\n",
       "      <td>2023-03-25T09:17:19.098Z</td>\n",
       "      <td>0</td>\n",
       "      <td>NaN</td>\n",
       "      <td>1048.62</td>\n",
       "      <td>28-Mar-2016</td>\n",
       "      <td>NaN</td>\n",
       "    </tr>\n",
       "    <tr>\n",
       "      <th>3632</th>\n",
       "      <td>641ebc1f4438f60007b5a3a4</td>\n",
       "      <td>HDFCBANK</td>\n",
       "      <td>EQ</td>\n",
       "      <td>N</td>\n",
       "      <td>1053.00</td>\n",
       "      <td>1041.65</td>\n",
       "      <td>1045.00</td>\n",
       "      <td>1047.50</td>\n",
       "      <td>1052.30</td>\n",
       "      <td>1049.35</td>\n",
       "      <td>...</td>\n",
       "      <td>INE040A01026</td>\n",
       "      <td>2016-03-28</td>\n",
       "      <td>2016-03-27T18:30:00.000Z</td>\n",
       "      <td>2023-03-25T09:17:19.098Z</td>\n",
       "      <td>2023-03-25T09:17:19.098Z</td>\n",
       "      <td>0</td>\n",
       "      <td>NaN</td>\n",
       "      <td>1048.62</td>\n",
       "      <td>28-Mar-2016</td>\n",
       "      <td>NaN</td>\n",
       "    </tr>\n",
       "    <tr>\n",
       "      <th>3633</th>\n",
       "      <td>641ebc2931da23000791a595</td>\n",
       "      <td>HDFCBANK</td>\n",
       "      <td>EQ</td>\n",
       "      <td>N</td>\n",
       "      <td>1059.50</td>\n",
       "      <td>1044.25</td>\n",
       "      <td>1047.50</td>\n",
       "      <td>1053.80</td>\n",
       "      <td>1053.00</td>\n",
       "      <td>1047.50</td>\n",
       "      <td>...</td>\n",
       "      <td>INE040A01026</td>\n",
       "      <td>2016-03-29</td>\n",
       "      <td>2016-03-28T18:30:00.000Z</td>\n",
       "      <td>2023-03-25T09:17:29.178Z</td>\n",
       "      <td>2023-03-25T09:17:29.178Z</td>\n",
       "      <td>0</td>\n",
       "      <td>NaN</td>\n",
       "      <td>1054.95</td>\n",
       "      <td>29-Mar-2016</td>\n",
       "      <td>NaN</td>\n",
       "    </tr>\n",
       "    <tr>\n",
       "      <th>3634</th>\n",
       "      <td>641ebc33a077ee000756e4ac</td>\n",
       "      <td>HDFCBANK</td>\n",
       "      <td>EQ</td>\n",
       "      <td>N</td>\n",
       "      <td>1069.90</td>\n",
       "      <td>1053.90</td>\n",
       "      <td>1058.00</td>\n",
       "      <td>1064.95</td>\n",
       "      <td>1066.30</td>\n",
       "      <td>1053.80</td>\n",
       "      <td>...</td>\n",
       "      <td>INE040A01026</td>\n",
       "      <td>2016-03-30</td>\n",
       "      <td>2016-03-29T18:30:00.000Z</td>\n",
       "      <td>2023-03-25T09:17:39.302Z</td>\n",
       "      <td>2023-03-25T09:17:39.302Z</td>\n",
       "      <td>0</td>\n",
       "      <td>NaN</td>\n",
       "      <td>1063.19</td>\n",
       "      <td>30-Mar-2016</td>\n",
       "      <td>NaN</td>\n",
       "    </tr>\n",
       "    <tr>\n",
       "      <th>3635</th>\n",
       "      <td>641ebc3d4438f60007b5ab5a</td>\n",
       "      <td>HDFCBANK</td>\n",
       "      <td>EQ</td>\n",
       "      <td>N</td>\n",
       "      <td>1078.90</td>\n",
       "      <td>1065.05</td>\n",
       "      <td>1066.85</td>\n",
       "      <td>1071.15</td>\n",
       "      <td>1071.80</td>\n",
       "      <td>1064.95</td>\n",
       "      <td>...</td>\n",
       "      <td>INE040A01026</td>\n",
       "      <td>2016-03-31</td>\n",
       "      <td>2016-03-30T18:30:00.000Z</td>\n",
       "      <td>2023-03-25T09:17:49.415Z</td>\n",
       "      <td>2023-03-25T09:17:49.415Z</td>\n",
       "      <td>0</td>\n",
       "      <td>NaN</td>\n",
       "      <td>1072.96</td>\n",
       "      <td>31-Mar-2016</td>\n",
       "      <td>NaN</td>\n",
       "    </tr>\n",
       "  </tbody>\n",
       "</table>\n",
       "<p>3636 rows × 25 columns</p>\n",
       "</div>"
      ],
      "text/plain": [
       "                           _id CH_SYMBOL CH_SERIES CH_MARKET_TYPE  \\\n",
       "0     641f31b44708d50007274d25  HDFCBANK        EQ              N   \n",
       "1     641f32744438f60007b7ce4d  HDFCBANK        EQ              N   \n",
       "2     641f3270adde0b0007d23e28  HDFCBANK        EQ              N   \n",
       "3     641f326a341dfa0007d37446  HDFCBANK        EQ              N   \n",
       "4     641f31364708d500072748bd  HDFCBANK        EQ              N   \n",
       "...                        ...       ...       ...            ...   \n",
       "3631  641ebc1f4438f60007b5a3a4  HDFCBANK        EQ              N   \n",
       "3632  641ebc1f4438f60007b5a3a4  HDFCBANK        EQ              N   \n",
       "3633  641ebc2931da23000791a595  HDFCBANK        EQ              N   \n",
       "3634  641ebc33a077ee000756e4ac  HDFCBANK        EQ              N   \n",
       "3635  641ebc3d4438f60007b5ab5a  HDFCBANK        EQ              N   \n",
       "\n",
       "      CH_TRADE_HIGH_PRICE  CH_TRADE_LOW_PRICE  CH_OPENING_PRICE  \\\n",
       "0                  230.00              222.75            228.00   \n",
       "1                  225.75              223.00            224.00   \n",
       "2                  227.95              222.20            225.00   \n",
       "3                  228.00              223.50            225.00   \n",
       "4                  226.35              221.55            224.00   \n",
       "...                   ...                 ...               ...   \n",
       "3631              1053.00             1041.65           1045.00   \n",
       "3632              1053.00             1041.65           1045.00   \n",
       "3633              1059.50             1044.25           1047.50   \n",
       "3634              1069.90             1053.90           1058.00   \n",
       "3635              1078.90             1065.05           1066.85   \n",
       "\n",
       "      CH_CLOSING_PRICE  CH_LAST_TRADED_PRICE  CH_PREVIOUS_CLS_PRICE  ...  \\\n",
       "0               225.05                226.00                 225.60  ...   \n",
       "1               225.00                225.00                 225.05  ...   \n",
       "2               226.25                227.75                 225.00  ...   \n",
       "3               223.95                223.75                 226.25  ...   \n",
       "4               223.95                224.15                 223.95  ...   \n",
       "...                ...                   ...                    ...  ...   \n",
       "3631           1047.50               1052.30                1049.35  ...   \n",
       "3632           1047.50               1052.30                1049.35  ...   \n",
       "3633           1053.80               1053.00                1047.50  ...   \n",
       "3634           1064.95               1066.30                1053.80  ...   \n",
       "3635           1071.15               1071.80                1064.95  ...   \n",
       "\n",
       "           CH_ISIN  CH_TIMESTAMP                 TIMESTAMP  \\\n",
       "0              NaN    2002-01-01  2001-12-31T18:30:00.000Z   \n",
       "1              NaN    2002-01-02  2002-01-01T18:30:00.000Z   \n",
       "2              NaN    2002-01-03  2002-01-02T18:30:00.000Z   \n",
       "3              NaN    2002-01-04  2002-01-03T18:30:00.000Z   \n",
       "4              NaN    2002-01-07  2002-01-06T18:30:00.000Z   \n",
       "...            ...           ...                       ...   \n",
       "3631  INE040A01026    2016-03-28  2016-03-27T18:30:00.000Z   \n",
       "3632  INE040A01026    2016-03-28  2016-03-27T18:30:00.000Z   \n",
       "3633  INE040A01026    2016-03-29  2016-03-28T18:30:00.000Z   \n",
       "3634  INE040A01026    2016-03-30  2016-03-29T18:30:00.000Z   \n",
       "3635  INE040A01026    2016-03-31  2016-03-30T18:30:00.000Z   \n",
       "\n",
       "                     createdAt                 updatedAt __v SLBMH_TOT_VAL  \\\n",
       "0     2023-03-25T17:39:00.692Z  2023-03-25T17:39:00.692Z   0           NaN   \n",
       "1     2023-03-25T17:42:12.909Z  2023-03-25T17:42:12.909Z   0           NaN   \n",
       "2     2023-03-25T17:42:08.208Z  2023-03-25T17:42:08.208Z   0           NaN   \n",
       "3     2023-03-25T17:42:02.801Z  2023-03-25T17:42:02.801Z   0           NaN   \n",
       "4     2023-03-25T17:36:54.390Z  2023-03-25T17:36:54.390Z   0           NaN   \n",
       "...                        ...                       ...  ..           ...   \n",
       "3631  2023-03-25T09:17:19.098Z  2023-03-25T09:17:19.098Z   0           NaN   \n",
       "3632  2023-03-25T09:17:19.098Z  2023-03-25T09:17:19.098Z   0           NaN   \n",
       "3633  2023-03-25T09:17:29.178Z  2023-03-25T09:17:29.178Z   0           NaN   \n",
       "3634  2023-03-25T09:17:39.302Z  2023-03-25T09:17:39.302Z   0           NaN   \n",
       "3635  2023-03-25T09:17:49.415Z  2023-03-25T09:17:49.415Z   0           NaN   \n",
       "\n",
       "         VWAP   mTIMESTAMP   CA  \n",
       "0      225.02  01-Jan-2002  NaN  \n",
       "1      224.53  02-Jan-2002  NaN  \n",
       "2      224.70  03-Jan-2002  NaN  \n",
       "3      224.49  04-Jan-2002  NaN  \n",
       "4      223.79  07-Jan-2002  NaN  \n",
       "...       ...          ...  ...  \n",
       "3631  1048.62  28-Mar-2016  NaN  \n",
       "3632  1048.62  28-Mar-2016  NaN  \n",
       "3633  1054.95  29-Mar-2016  NaN  \n",
       "3634  1063.19  30-Mar-2016  NaN  \n",
       "3635  1072.96  31-Mar-2016  NaN  \n",
       "\n",
       "[3636 rows x 25 columns]"
      ]
     },
     "execution_count": 9,
     "metadata": {},
     "output_type": "execute_result"
    }
   ],
   "source": [
    "data_old"
   ]
  },
  {
   "attachments": {},
   "cell_type": "markdown",
   "metadata": {},
   "source": [
    "calculate returns of index and asset data as percentage change"
   ]
  },
  {
   "cell_type": "code",
   "execution_count": 10,
   "metadata": {},
   "outputs": [],
   "source": [
    "index_data['Returns'] = index_data['CLOSE'].pct_change()\n",
    "index_data_returns = index_data.Returns[1:]\n",
    "\n",
    "new_index_data['Returns'] = new_index_data['CLOSE'].pct_change()\n",
    "new_index_data_returns = new_index_data.Returns[1:]\n",
    "\n",
    "data_old['Returns'] = data_old['CH_CLOSING_PRICE'].pct_change()\n",
    "asset_data_returns = data_old.Returns[1:]"
   ]
  },
  {
   "attachments": {},
   "cell_type": "markdown",
   "metadata": {},
   "source": [
    "Take last 10 values of the asset and index data to calculate stock price"
   ]
  },
  {
   "cell_type": "code",
   "execution_count": 11,
   "metadata": {},
   "outputs": [],
   "source": [
    "asset_data_returns = asset_data_returns[-10:]\n",
    "index_data_returns = index_data_returns[-10:]\n",
    "asset_data_returns = np.array(asset_data_returns)\n",
    "index_data_returns = np.array(index_data_returns)"
   ]
  },
  {
   "attachments": {},
   "cell_type": "markdown",
   "metadata": {},
   "source": [
    "Fit Ordinary Least Square Model to find alpha and beta values for the linear regression"
   ]
  },
  {
   "cell_type": "code",
   "execution_count": 12,
   "metadata": {},
   "outputs": [],
   "source": [
    "def ordinary_least_square_model(asset_returns, index_returns):\n",
    "    asset_returns = stats.add_constant(asset_returns)\n",
    "    model = stats.OLS(index_returns, asset_returns).fit()\n",
    "    asset_returns = asset_returns[:, 1]\n",
    "    return model"
   ]
  },
  {
   "cell_type": "code",
   "execution_count": 13,
   "metadata": {},
   "outputs": [
    {
     "data": {
      "text/plain": [
       "<statsmodels.regression.linear_model.RegressionResultsWrapper at 0x2361b8586d0>"
      ]
     },
     "execution_count": 13,
     "metadata": {},
     "output_type": "execute_result"
    }
   ],
   "source": [
    "model = ordinary_least_square_model(asset_data_returns, index_data_returns)\n",
    "model\n"
   ]
  },
  {
   "cell_type": "code",
   "execution_count": 14,
   "metadata": {},
   "outputs": [],
   "source": [
    "alpha = model.params[0]\n",
    "beta = model.params[1]"
   ]
  },
  {
   "cell_type": "code",
   "execution_count": 15,
   "metadata": {},
   "outputs": [
    {
     "name": "stdout",
     "output_type": "stream",
     "text": [
      "Alpha is:  0.002832098259517888\n",
      "Beta is:  0.6231877891948565\n"
     ]
    }
   ],
   "source": [
    "print(\"Alpha is: \", alpha)\n",
    "print(\"Beta is: \", beta)"
   ]
  },
  {
   "attachments": {},
   "cell_type": "markdown",
   "metadata": {},
   "source": [
    "Plot the linear regression"
   ]
  },
  {
   "cell_type": "code",
   "execution_count": 16,
   "metadata": {},
   "outputs": [
    {
     "data": {
      "image/png": "[encoded data removed]",
      "text/plain": [
       "<Figure size 1000x1000 with 1 Axes>"
      ]
     },
     "metadata": {},
     "output_type": "display_data"
    }
   ],
   "source": [
    "fig = plt.figure(figsize=(10, 10))\n",
    "plt.plot(index_data_returns, asset_data_returns, 'r.')\n",
    "ax = plt.axis()\n",
    "x = np.linspace(ax[0], ax[1] + 0.01)\n",
    "plt.plot(x, alpha + beta * x, 'b', lw=2)\n",
    "\n",
    "plt.grid(True)\n",
    "plt.axis('tight')\n",
    "plt.xlabel('NIFTY BANK Returns')\n",
    "plt.ylabel('HDFC BANK Returns')\n",
    "plt.show()"
   ]
  },
  {
   "attachments": {},
   "cell_type": "markdown",
   "metadata": {},
   "source": [
    "Calculate the asset returns by using the obtained values of alpha and beta"
   ]
  },
  {
   "cell_type": "code",
   "execution_count": 17,
   "metadata": {},
   "outputs": [],
   "source": [
    "predicted_asset_returns = alpha + beta * new_index_data_returns"
   ]
  },
  {
   "cell_type": "code",
   "execution_count": 18,
   "metadata": {},
   "outputs": [
    {
     "data": {
      "text/plain": [
       "1      1.003449\n",
       "2      0.983778\n",
       "3      1.000489\n",
       "4      0.998607\n",
       "5      1.004357\n",
       "         ...   \n",
       "243    1.000885\n",
       "244    1.007834\n",
       "245    1.007706\n",
       "246    1.009504\n",
       "247    0.997759\n",
       "Name: Returns, Length: 247, dtype: float64"
      ]
     },
     "execution_count": 18,
     "metadata": {},
     "output_type": "execute_result"
    }
   ],
   "source": [
    "predicted_asset_returns = 1 + predicted_asset_returns\n",
    "predicted_asset_returns"
   ]
  },
  {
   "attachments": {},
   "cell_type": "markdown",
   "metadata": {},
   "source": [
    "The calculated asset prices are as follows:"
   ]
  },
  {
   "cell_type": "code",
   "execution_count": 19,
   "metadata": {},
   "outputs": [
    {
     "data": {
      "text/plain": [
       "1     1074.843948\n",
       "2     1057.408354\n",
       "3     1057.925888\n",
       "4     1056.452585\n",
       "5     1061.055509\n",
       "6     1074.679048\n",
       "7     1080.347696\n",
       "8     1100.281231\n",
       "9     1101.038435\n",
       "10    1109.528495\n",
       "Name: Returns, dtype: float64"
      ]
     },
     "execution_count": 19,
     "metadata": {},
     "output_type": "execute_result"
    }
   ],
   "source": [
    "predicted_asset_price = data_old['CH_CLOSING_PRICE'].iloc[-1] * predicted_asset_returns.cumprod()\n",
    "predicted_asset_price[0:10]"
   ]
  },
  {
   "attachments": {},
   "cell_type": "markdown",
   "metadata": {},
   "source": [
    "To check the fit of the linear regression model, we find the r-squared value"
   ]
  },
  {
   "cell_type": "code",
   "execution_count": 20,
   "metadata": {},
   "outputs": [
    {
     "data": {
      "text/plain": [
       "0.15944128387997902"
      ]
     },
     "execution_count": 20,
     "metadata": {},
     "output_type": "execute_result"
    }
   ],
   "source": [
    "# data_old['CH_CLOSING_PRICE'].iloc[-1]\n",
    "model.rsquared"
   ]
  },
  {
   "attachments": {},
   "cell_type": "markdown",
   "metadata": {},
   "source": [
    "`r-square` value shows that linear model does not fit well to past 10 days data.\n",
    "<br>\n",
    "Thus we move to the stochastic model derived using `Brownian Motion` using stochastic calculus. "
   ]
  },
  {
   "attachments": {},
   "cell_type": "markdown",
   "metadata": {},
   "source": [
    "## `1.2` Stochastic Model\n",
    "`Brownian Motion` Just as deterministic curves can be considered as comprising of infinitesimal increments of straight lines, stochastic trajectories may be assumed to be formed by infinitesimal increments of `Brownian motion`.\n",
    "<br />\n",
    "![images/brownian.png](images/brownian.png)"
   ]
  },
  {
   "attachments": {},
   "cell_type": "markdown",
   "metadata": {},
   "source": [
    "Modeling the stock prices as a `Wiener Process`\n",
    "<br />\n",
    "![images/stochastic_on_brownian.png](images/stochastic_on_brownian.png)"
   ]
  },
  {
   "attachments": {},
   "cell_type": "markdown",
   "metadata": {},
   "source": [
    "Set `inflation rate` and `bond yield` to calculate `risk free rate` of return for our model\n",
    "<br/>\n",
    "![./images/rfr.png](./images/rfr.png)\n",
    "<br/>\n",
    "Taking nominal risk free rate as the 10 year bond yield"
   ]
  },
  {
   "cell_type": "code",
   "execution_count": 21,
   "metadata": {},
   "outputs": [
    {
     "name": "stdout",
     "output_type": "stream",
     "text": [
      "Risk free rate is:  0.032537313432835724\n"
     ]
    }
   ],
   "source": [
    "# Inflation rate is 3.85% as of 2023 April\n",
    "inflation_rate = 0.0385\n",
    "\n",
    "# 10 year bond yield is 7.229% as of 2023 April\n",
    "bond_yield = 0.07229\n",
    "\n",
    "# Risk free rate calculation\n",
    "risk_free_rate = ((1 + bond_yield) /  (1 + inflation_rate)) - 1\n",
    "\n",
    "print(\"Risk free rate is: \", risk_free_rate)"
   ]
  },
  {
   "attachments": {},
   "cell_type": "markdown",
   "metadata": {},
   "source": [
    "As the required data is already fetced, read the csv files(`data_old` and `data_new`) from `data` folder and store the data in respective dataframes\n",
    "<br />"
   ]
  },
  {
   "cell_type": "code",
   "execution_count": 22,
   "metadata": {},
   "outputs": [],
   "source": [
    "\n",
    "data_old = pd.read_csv('./data/data_old.csv')\n",
    "data_new = pd.read_csv('./data/data_new.csv')"
   ]
  },
  {
   "attachments": {},
   "cell_type": "markdown",
   "metadata": {},
   "source": [
    "Add new colunm `log_returns` to the dataframe to store log returns\n",
    "<br />\n",
    "`Volatility` is calculated as the standard deviation of log returns\n",
    "<br />\n",
    "`Annualized Volatility` is calculated by multiplying the Volatility by the square root of `252` (number of trading days in a year)\n",
    "<br />\n",
    "![./images/daily_returns.png](./images/volatility.png)\n",
    "<br />\n",
    "`spot_price` is the closing price of the stock on the last trading day of the year"
   ]
  },
  {
   "cell_type": "code",
   "execution_count": 70,
   "metadata": {},
   "outputs": [],
   "source": [
    "data_old['log_returns'] = np.log(data_old['CH_CLOSING_PRICE'] / data_old['CH_CLOSING_PRICE'].shift(1))\n",
    "# export to csv\n",
    "data_old.to_csv(r'./data/data_old_log_returns.csv', index=False)\n",
    "\n",
    "d_std = data_old['log_returns'].std()\n",
    "annualized_volatility = d_std * 252 ** 0.5\n",
    "\n",
    "# Spot price\n",
    "spot_price = data_old['CH_CLOSING_PRICE'].iloc[-1]"
   ]
  },
  {
   "attachments": {},
   "cell_type": "markdown",
   "metadata": {},
   "source": [
    "Generating m different values for the stock price on maturity(T) \n",
    "<br />\n",
    "considering the stock follows `brownian motion with drift`"
   ]
  },
  {
   "cell_type": "code",
   "execution_count": 71,
   "metadata": {},
   "outputs": [
    {
     "name": "stdout",
     "output_type": "stream",
     "text": [
      "1071.15\n",
      "[ 901.83895516 1111.11149984  914.96960896 ...  802.19428433 1327.43316761\n",
      "  966.99035406]\n"
     ]
    }
   ],
   "source": [
    "\n",
    "def generate_prices(spot_price, risk_free_rate, annualized_volatility, T,m):\n",
    "    prices = spot_price * np.exp((risk_free_rate - 0.5 * annualized_volatility ** 2) * T + annualized_volatility * np.sqrt(T) * np.random.normal(0, 1, m))\n",
    "    return prices\n",
    "\n",
    "m=100000\n",
    "# time to maturity is taken as 30 days\n",
    "T=30.0/252.0\n",
    "prices = generate_prices(spot_price, risk_free_rate, annualized_volatility,T,m)\n",
    "print(spot_price)\n",
    "print(prices)"
   ]
  },
  {
   "attachments": {},
   "cell_type": "markdown",
   "metadata": {},
   "source": [
    "# `2` European Options\n",
    "A call option gives the holder the right to buy the underlying asset at an agreed strike price.\n",
    "<br/>\n",
    "A put option gives the holder the right to sell the underlying asset at an agreed strike price.\n",
    "<br/>\n",
    "A European option is the type of options contract that allows investors to exercise their options only on the expiration date of that contract."
   ]
  },
  {
   "attachments": {},
   "cell_type": "markdown",
   "metadata": {},
   "source": [
    "## `2.1` Monte Carlo Simulation\n",
    "Set the `strike price`: the price at which the option can be exercised\n",
    "<br />\n",
    "`payoff_generation` function calculates both `call` and `put` options' payoffs\n",
    "<br />\n",
    "<br />\n",
    "`call payoff = max(0, spot_price - strike_price)`\n",
    "<br />\n",
    "`put payoff = max(0, strike_price - spot_price)`\n",
    "<br />\n",
    "<br />\n",
    "![./images/mcs.png](./images/mcs.png)"
   ]
  },
  {
   "attachments": {},
   "cell_type": "markdown",
   "metadata": {},
   "source": [
    "Expected payoff is calculated using Monte Carlo Simulation"
   ]
  },
  {
   "cell_type": "code",
   "execution_count": 72,
   "metadata": {},
   "outputs": [],
   "source": [
    "strike_price = 1070.00\n",
    "# Calculating Payoffs\n",
    "def payoff_generation(strike_price, simulation_count = 10000):\n",
    "    call_payoffs = np.zeros(simulation_count)\n",
    "    put_payoffs = np.zeros(simulation_count)\n",
    "    prices = generate_prices(spot_price, risk_free_rate, annualized_volatility, T,simulation_count)\n",
    "    call_payoffs = np.maximum(prices - strike_price, 0)\n",
    "    put_payoffs = np.maximum(strike_price - prices, 0)\n",
    "    return call_payoffs, put_payoffs"
   ]
  },
  {
   "attachments": {},
   "cell_type": "markdown",
   "metadata": {},
   "source": [
    "Declare function to calculate `call` and `put` options' pricing using respective payoffs"
   ]
  },
  {
   "cell_type": "code",
   "execution_count": 73,
   "metadata": {},
   "outputs": [],
   "source": [
    "# Calculating the call and put option prices\n",
    "def option_price_calculation(strike_price, simulation_count = 100000):\n",
    "    call_payoffs, put_payoffs = payoff_generation(strike_price, simulation_count)\n",
    "    call_price = np.mean(call_payoffs) * np.exp(-risk_free_rate * T)\n",
    "    put_price = np.mean(put_payoffs) * np.exp(-risk_free_rate * T)\n",
    "    return call_payoffs, put_payoffs, call_price, put_price"
   ]
  },
  {
   "attachments": {},
   "cell_type": "markdown",
   "metadata": {},
   "source": [
    "Call above declared function to calculate `call` and `put` pricing"
   ]
  },
  {
   "cell_type": "code",
   "execution_count": 74,
   "metadata": {},
   "outputs": [],
   "source": [
    "# Executing the function\n",
    "call_payoffs, put_payoffs, call_price, put_price = option_price_calculation(strike_price)\n",
    "# print(call_payoffs)"
   ]
  },
  {
   "cell_type": "code",
   "execution_count": 75,
   "metadata": {},
   "outputs": [
    {
     "name": "stdout",
     "output_type": "stream",
     "text": [
      "Call Option price is:  79.80109097938443\n",
      "Put Option price is:  75.10825996657017\n"
     ]
    }
   ],
   "source": [
    "# Printing the results\n",
    "print(\"Call Option price is: \", call_price)\n",
    "print(\"Put Option price is: \", put_price)"
   ]
  },
  {
   "attachments": {},
   "cell_type": "markdown",
   "metadata": {},
   "source": [
    "Checking if the prices obtained satisfy put call parity condition to make sure there is no arbitrage in the prices\n",
    "<!-- <br/> -->\n"
   ]
  },
  {
   "attachments": {},
   "cell_type": "markdown",
   "metadata": {},
   "source": [
    "![./images/parity.jpg](./images/parity.jpg)"
   ]
  },
  {
   "cell_type": "code",
   "execution_count": 76,
   "metadata": {},
   "outputs": [
    {
     "data": {
      "text/plain": [
       "-0.5937862159529743"
      ]
     },
     "execution_count": 76,
     "metadata": {},
     "output_type": "execute_result"
    }
   ],
   "source": [
    "# Calculating Put Call Parity\n",
    "def put_call_parity_calculation(call_price, put_price, spot_price, strike_price, risk_free_rate, T):\n",
    "    lhs = call_price - put_price\n",
    "    rhs = spot_price - strike_price * np.exp(-risk_free_rate * T)\n",
    "    return lhs-rhs\n",
    "\n",
    "# Executing the function\n",
    "put_call_parity_calculation(call_price, put_price, spot_price, strike_price, risk_free_rate, T)"
   ]
  },
  {
   "attachments": {},
   "cell_type": "markdown",
   "metadata": {},
   "source": [
    "## `2.2` Black Scholes Model"
   ]
  },
  {
   "attachments": {},
   "cell_type": "markdown",
   "metadata": {},
   "source": [
    "Deriving `Black Scholes Model` using Ito's calculus.\n",
    "<br/>\n",
    "![./images/bsm.png](./images/bsm.png)"
   ]
  },
  {
   "attachments": {},
   "cell_type": "markdown",
   "metadata": {},
   "source": [
    "Deriving `Black Scholes PDE`.\n",
    "<br/>\n",
    "![./images/black_scholes_pde.png](./images/black_scholes_pde.png)"
   ]
  },
  {
   "attachments": {},
   "cell_type": "markdown",
   "metadata": {},
   "source": [
    "Boundary Conditions:\n",
    "<br/>\n",
    "![./images/boundary_conditions.png](./images/boundary_conditions.png)"
   ]
  },
  {
   "attachments": {},
   "cell_type": "markdown",
   "metadata": {},
   "source": [
    "BS solutions for Calls & Puts:\n",
    "<br/>\n",
    "![./images/bs_solution.png](./images/bs_solution.png)"
   ]
  },
  {
   "attachments": {},
   "cell_type": "markdown",
   "metadata": {},
   "source": [
    "Calculate d1 and d2"
   ]
  },
  {
   "cell_type": "code",
   "execution_count": 66,
   "metadata": {},
   "outputs": [],
   "source": [
    "# Now lets calculate the option price using Black Scholes formula\n",
    "# First we need to calculate the d1 and d2 values\n",
    "\n",
    "# Calculating d1\n",
    "def d1_calculation(spot_price, strike_price, risk_free_rate, annualized_volatility, T):\n",
    "    d1 = (np.log(spot_price/strike_price) + (risk_free_rate + 0.5 * annualized_volatility**2) * T) / (annualized_volatility * np.sqrt(T))\n",
    "    return d1\n",
    "\n",
    "# Calculating d2\n",
    "def d2_calculation(spot_price, strike_price, risk_free_rate, annualized_volatility, T):\n",
    "    d2 = (np.log(spot_price/strike_price) + (risk_free_rate - 0.5 * annualized_volatility**2) * T) / (annualized_volatility * np.sqrt(T))\n",
    "    return d2"
   ]
  },
  {
   "attachments": {},
   "cell_type": "markdown",
   "metadata": {},
   "source": [
    "Calculate Call and Put option price"
   ]
  },
  {
   "cell_type": "code",
   "execution_count": 67,
   "metadata": {},
   "outputs": [],
   "source": [
    "# Calculating the call and put option prices using Black Scholes formula\n",
    "def option_price_calculation_black_scholes(spot_price, strike_price, risk_free_rate, annualized_volatility, T):\n",
    "    d1 = d1_calculation(spot_price, strike_price, risk_free_rate, annualized_volatility, T)\n",
    "    d2 = d2_calculation(spot_price, strike_price, risk_free_rate, annualized_volatility, T)\n",
    "    call_price = spot_price * norm.cdf(d1) - strike_price * np.exp(-risk_free_rate * T) * norm.cdf(d2)\n",
    "    put_price = strike_price * np.exp(-risk_free_rate * T) * norm.cdf(-d2) - spot_price * norm.cdf(-d1)\n",
    "    return call_price, put_price"
   ]
  },
  {
   "cell_type": "code",
   "execution_count": 68,
   "metadata": {},
   "outputs": [
    {
     "name": "stdout",
     "output_type": "stream",
     "text": [
      "Call Option price using Black Scholes formula is:  80.29148755106883\n",
      "Put Option price using Black Scholes formula is:  75.00487032230183\n"
     ]
    }
   ],
   "source": [
    "# Executing the function\n",
    "call_price_black_scholes, put_price_black_scholes = option_price_calculation_black_scholes(spot_price, strike_price, risk_free_rate, annualized_volatility, T)\n",
    "print(\"Call Option price using Black Scholes formula is: \", call_price_black_scholes)\n",
    "print(\"Put Option price using Black Scholes formula is: \", put_price_black_scholes)"
   ]
  },
  {
   "attachments": {},
   "cell_type": "markdown",
   "metadata": {},
   "source": [
    "The results obtained through Monte Carlo simulation have been found to be comparable to those obtained using the Black-Scholes model, thereby validating the accuracy of the Monte Carlo simulation."
   ]
  },
  {
   "attachments": {},
   "cell_type": "markdown",
   "metadata": {},
   "source": [
    "## References\n",
    "\n",
    "1. Zerodha Varsity https://zerodha.com/varsity/\n",
    "2. NPTEL IIT Roorkee Prof. JP Singh - Financial Derivatives and Risk Management - https://www.youtube.com/playlist?list=PLLy_2iUCG87CTB2vv9njHaJbmQoa9S5gK\n",
    "3. Investopedia Options - https://www.investopedia.com/terms/o/option.asp"
   ]
  }
 ],
 "metadata": {
  "kernelspec": {
   "display_name": "Python 3 (ipykernel)",
   "language": "python",
   "name": "python3"
  },
  "language_info": {
   "codemirror_mode": {
    "name": "ipython",
    "version": 3
   },
   "file_extension": ".py",
   "mimetype": "text/x-python",
   "name": "python",
   "nbconvert_exporter": "python",
   "pygments_lexer": "ipython3",
   "version": "3.10.2"
  }
 },
 "nbformat": 4,
 "nbformat_minor": 2
}
