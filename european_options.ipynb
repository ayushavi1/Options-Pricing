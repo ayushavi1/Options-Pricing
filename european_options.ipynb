{
 "cells": [
  {
   "cell_type": "markdown",
   "metadata": {},
   "source": [
    "# `2` European Options\n",
    "A European option is the type of options contract that allows investors to exercise their options only on the expiration date of that contract."
   ]
  },
  {
   "cell_type": "markdown",
   "metadata": {},
   "source": [
    "run `fetch_data.py` to fetch data\n",
    "<br />\n",
    "if the data already fetched (`data_old` and `data_new` already available in `data` folder), skip this step"
   ]
  },
  {
   "cell_type": "markdown",
   "metadata": {},
   "source": [
    "`2.1` Import all the dependencies"
   ]
  },
  {
   "cell_type": "code",
   "execution_count": 26,
   "metadata": {},
   "outputs": [],
   "source": [
    "from nsepython import *\n",
    "from datetime import date\n",
    "import pandas as pd\n",
    "import numpy as np\n",
    "from scipy.stats import norm"
   ]
  },
  {
   "cell_type": "markdown",
   "metadata": {},
   "source": [
    "`2.2` Set `inflation rate` and `bond yield` to calculate `risk free rate` of return for our model\n",
    "![./images/rfr.png](./images/rfr.png)"
   ]
  },
  {
   "cell_type": "code",
   "execution_count": 27,
   "metadata": {},
   "outputs": [
    {
     "name": "stdout",
     "output_type": "stream",
     "text": [
      "Risk free rate is:  0.032537313432835724\n"
     ]
    }
   ],
   "source": [
    "# Inflation rate is 3.85% as of 2023 April\n",
    "inflation_rate = 0.0385\n",
    "\n",
    "# 10 year bond yield is 7.229% as of 2023 April\n",
    "bond_yield = 0.07229\n",
    "\n",
    "# Risk free rate calculation\n",
    "risk_free_rate = ((1 + bond_yield) /  (1 + inflation_rate)) - 1\n",
    "\n",
    "print(\"Risk free rate is: \", risk_free_rate)"
   ]
  },
  {
   "cell_type": "markdown",
   "metadata": {},
   "source": [
    "`2.3` As the required data is already fetced, read the csv files(`data_old` and `data_new`) from `data` folder and store the data in respective dataframes\n",
    "<br />"
   ]
  },
  {
   "cell_type": "code",
   "execution_count": 28,
   "metadata": {},
   "outputs": [],
   "source": [
    "\n",
    "data_old = pd.read_csv('./data/data_old.csv')\n",
    "data_new = pd.read_csv('./data/data_new.csv')"
   ]
  },
  {
   "cell_type": "markdown",
   "metadata": {},
   "source": [
    "`2.4` Add new colunm `log_returns` to the dataframe to store log returns\n",
    "<br />\n",
    "The log returns are calculated by taking the difference between the log of the `closing price of the current day` and the log of the `closing price of the previous day`.\n",
    "<br />\n",
    "`d_std` is the standard deviation of the daily returns\n",
    "<br />\n",
    "calculate `annualized_volatility` by multiplying the `daily standard deviation` by the square root of `252` (number of trading days in a year)\n",
    "<br />\n",
    "![./images/daily_returns.png](./images/volatility.png)\n",
    "<br />\n",
    "`spot_price` is the closing price of the stock on the last trading day of the year"
   ]
  },
  {
   "cell_type": "code",
   "execution_count": 29,
   "metadata": {},
   "outputs": [],
   "source": [
    "data_old['log_returns'] = np.log(data_old['CH_CLOSING_PRICE'] / data_old['CH_CLOSING_PRICE'].shift(1))\n",
    "# export to csv\n",
    "data_old.to_csv(r'./data/data_old_log_returns.csv', index=False)\n",
    "\n",
    "d_std = data_old['log_returns'].std()\n",
    "annualized_volatility = d_std * 250 ** 0.5\n",
    "\n",
    "# Spot price\n",
    "spot_price = data_old['CH_CLOSING_PRICE'].iloc[-1]"
   ]
  },
  {
   "cell_type": "code",
   "execution_count": 30,
   "metadata": {},
   "outputs": [],
   "source": [
    "# Using Numpy Arrays instead of Pandas DataFrames\n",
    "# x = data_old[\"CH_CLOSING_PRICE\"].values\n",
    "# n = x.shape[0]\n",
    "# window = int(10*252)\n",
    "# # Calculating the log returns\n",
    "# log_returns = np.log(x[n-window:n-1]/x[n-window-1:n-2])\n",
    "\n",
    "# # Calculating the annualized volatility\n",
    "# annualized_volatility = np.std(log_returns) * np.sqrt(252)\n",
    "# spot_price = x[n-1]\n",
    "\n",
    "# # Print the results\n",
    "# print(annualized_volatility)\n",
    "# print(spot_price)"
   ]
  },
  {
   "cell_type": "markdown",
   "metadata": {},
   "source": [
    "`2.5` Calculate `mean price` of 30 days\n",
    "<br />\n",
    "considering the stock follows `brownian motion with drift`"
   ]
  },
  {
   "cell_type": "code",
   "execution_count": 31,
   "metadata": {},
   "outputs": [
    {
     "name": "stdout",
     "output_type": "stream",
     "text": [
      "1071.15\n",
      "[1112.87399248 1219.18855512 1158.52709123 ... 1096.19214289 1345.61174594\n",
      "  942.14854508]\n"
     ]
    }
   ],
   "source": [
    "m=10000\n",
    "T=30.0/250.0\n",
    "# for t in range(T):\n",
    "def generate_prices(spot_price, risk_free_rate, annualized_volatility, T):\n",
    "    expected_price = spot_price * np.exp((risk_free_rate - 0.5 * annualized_volatility ** 2) * T + annualized_volatility * np.sqrt(T) * np.random.normal(0, 1, m))\n",
    "    return expected_price\n",
    "mean_price = generate_prices(spot_price, risk_free_rate, annualized_volatility, T)\n",
    "print(spot_price)\n",
    "print(mean_price)"
   ]
  },
  {
   "cell_type": "markdown",
   "metadata": {},
   "source": [
    "`2.6` Set the `strike price`: the price at which the option can be exercised\n",
    "<br />\n",
    "`payoff_generation` function calculates both `call` and `put` options' payoffs\n",
    "![./images/payoff.png](./images/payoff.png)"
   ]
  },
  {
   "cell_type": "code",
   "execution_count": 32,
   "metadata": {},
   "outputs": [],
   "source": [
    "strike_price = 1070.00\n",
    "# Calculating Payoffs\n",
    "def payoff_generation(strike_price, simulation_count = 10000):\n",
    "    call_payoffs = []\n",
    "    put_payoffs = []\n",
    "    for i in range(simulation_count):\n",
    "        mean_price = generate_prices(spot_price, risk_free_rate, annualized_volatility, T)\n",
    "        call_payoff = np.maximum(mean_price - strike_price, 0)\n",
    "        put_payoff = np.maximum(strike_price - mean_price, 0)\n",
    "        call_payoffs.append(call_payoff)\n",
    "        put_payoffs.append(put_payoff)\n",
    "    return call_payoffs, put_payoffs"
   ]
  },
  {
   "cell_type": "markdown",
   "metadata": {},
   "source": [
    "`2.7` Declare function to calculate `call` and `put` options' pricing using respective payoffs"
   ]
  },
  {
   "cell_type": "code",
   "execution_count": 33,
   "metadata": {},
   "outputs": [],
   "source": [
    "# Calculating the call and put option prices\n",
    "def option_price_calculation(strike_price, simulation_count = 10000):\n",
    "    call_payoffs, put_payoffs = payoff_generation(strike_price, simulation_count)\n",
    "    call_price = np.mean(call_payoffs) * np.exp(-risk_free_rate * T)\n",
    "    put_price = np.mean(put_payoffs) * np.exp(-risk_free_rate * T)\n",
    "    return call_payoffs, put_payoffs, call_price, put_price"
   ]
  },
  {
   "cell_type": "markdown",
   "metadata": {},
   "source": [
    "`2.8` Call above declared function to calculate `call` and `put` pricing"
   ]
  },
  {
   "cell_type": "code",
   "execution_count": 34,
   "metadata": {},
   "outputs": [],
   "source": [
    "# Executing the function\n",
    "call_payoffs, put_payoffs, call_price, put_price = option_price_calculation(strike_price)"
   ]
  },
  {
   "cell_type": "code",
   "execution_count": 35,
   "metadata": {},
   "outputs": [
    {
     "name": "stdout",
     "output_type": "stream",
     "text": [
      "Call Option price is:  80.30291890028367\n",
      "Put Option price is:  74.99167181650449\n"
     ]
    }
   ],
   "source": [
    "# Printing the results\n",
    "print(\"Call Option price is: \", call_price)\n",
    "print(\"Put Option price is: \", put_price)"
   ]
  },
  {
   "cell_type": "code",
   "execution_count": 36,
   "metadata": {},
   "outputs": [
    {
     "data": {
      "text/plain": [
       "True"
      ]
     },
     "execution_count": 36,
     "metadata": {},
     "output_type": "execute_result"
    }
   ],
   "source": [
    "# Calculating Put Call Parity\n",
    "def put_call_parity_calculation(call_price, put_price, spot_price, strike_price, risk_free_rate, T):\n",
    "    lhs = call_price - put_price\n",
    "    rhs = spot_price - strike_price * np.exp(-risk_free_rate * T)\n",
    "    return round(lhs) == round(rhs)\n",
    "\n",
    "# Executing the function\n",
    "put_call_parity_calculation(call_price, put_price, spot_price, strike_price, risk_free_rate, T)"
   ]
  },
  {
   "cell_type": "code",
   "execution_count": 37,
   "metadata": {},
   "outputs": [],
   "source": [
    "# Now lets calculate the option price using Black Scholes formula\n",
    "# First we need to calculate the d1 and d2 values\n",
    "\n",
    "# Calculating d1\n",
    "def d1_calculation(spot_price, strike_price, risk_free_rate, annualized_volatility, T):\n",
    "    d1 = (np.log(spot_price/strike_price) + (risk_free_rate + 0.5 * annualized_volatility**2) * T) / (annualized_volatility * np.sqrt(T))\n",
    "    return d1\n",
    "\n",
    "# Calculating d2\n",
    "def d2_calculation(spot_price, strike_price, risk_free_rate, annualized_volatility, T):\n",
    "    d2 = (np.log(spot_price/strike_price) + (risk_free_rate - 0.5 * annualized_volatility**2) * T) / (annualized_volatility * np.sqrt(T))\n",
    "    return d2"
   ]
  },
  {
   "cell_type": "code",
   "execution_count": 38,
   "metadata": {},
   "outputs": [],
   "source": [
    "# Calculating the call and put option prices using Black Scholes formula\n",
    "def option_price_calculation_black_scholes(spot_price, strike_price, risk_free_rate, annualized_volatility, T):\n",
    "    d1 = d1_calculation(spot_price, strike_price, risk_free_rate, annualized_volatility, T)\n",
    "    d2 = d2_calculation(spot_price, strike_price, risk_free_rate, annualized_volatility, T)\n",
    "    call_price = spot_price * norm.cdf(d1) - strike_price * np.exp(-risk_free_rate * T) * norm.cdf(d2)\n",
    "    put_price = strike_price * np.exp(-risk_free_rate * T) * norm.cdf(-d2) - spot_price * norm.cdf(-d1)\n",
    "    return call_price, put_price"
   ]
  },
  {
   "cell_type": "code",
   "execution_count": 39,
   "metadata": {},
   "outputs": [
    {
     "name": "stdout",
     "output_type": "stream",
     "text": [
      "Call Option price using Black Scholes formula is:  80.30715965784196\n",
      "Put Option price using Black Scholes formula is:  74.98751405418727\n"
     ]
    }
   ],
   "source": [
    "# Executing the function\n",
    "call_price_black_scholes, put_price_black_scholes = option_price_calculation_black_scholes(spot_price, strike_price, risk_free_rate, annualized_volatility, T)\n",
    "print(\"Call Option price using Black Scholes formula is: \", call_price_black_scholes)\n",
    "print(\"Put Option price using Black Scholes formula is: \", put_price_black_scholes)"
   ]
  },
  {
   "cell_type": "code",
   "execution_count": 45,
   "metadata": {},
   "outputs": [],
   "source": [
    "import pandas as pd\n",
    "import numpy as np\n",
    "import matplotlib.pyplot as plt\n",
    "from statsmodels.tsa.arima.model import ARIMA\n"
   ]
  },
  {
   "cell_type": "code",
   "execution_count": 60,
   "metadata": {},
   "outputs": [],
   "source": [
    "data = pd.read_csv('./data/data_old.csv')\n",
    "data = data.set_index('CH_TIMESTAMP')\n",
    "data.index = pd.to_datetime(data.index)\n",
    "data = data.sort_index()\n",
    "data['CH_CLOSING'] = data['CH_CLOSING_PRICE'].pct_change()\n"
   ]
  },
  {
   "cell_type": "code",
   "execution_count": 61,
   "metadata": {},
   "outputs": [
    {
     "data": {
      "text/html": [
       "<div>\n",
       "<style scoped>\n",
       "    .dataframe tbody tr th:only-of-type {\n",
       "        vertical-align: middle;\n",
       "    }\n",
       "\n",
       "    .dataframe tbody tr th {\n",
       "        vertical-align: top;\n",
       "    }\n",
       "\n",
       "    .dataframe thead th {\n",
       "        text-align: right;\n",
       "    }\n",
       "</style>\n",
       "<table border=\"1\" class=\"dataframe\">\n",
       "  <thead>\n",
       "    <tr style=\"text-align: right;\">\n",
       "      <th></th>\n",
       "      <th>_id</th>\n",
       "      <th>CH_SYMBOL</th>\n",
       "      <th>CH_SERIES</th>\n",
       "      <th>CH_MARKET_TYPE</th>\n",
       "      <th>CH_TRADE_HIGH_PRICE</th>\n",
       "      <th>CH_TRADE_LOW_PRICE</th>\n",
       "      <th>CH_OPENING_PRICE</th>\n",
       "      <th>CH_CLOSING_PRICE</th>\n",
       "      <th>CH_LAST_TRADED_PRICE</th>\n",
       "      <th>CH_PREVIOUS_CLS_PRICE</th>\n",
       "      <th>...</th>\n",
       "      <th>CH_ISIN</th>\n",
       "      <th>TIMESTAMP</th>\n",
       "      <th>createdAt</th>\n",
       "      <th>updatedAt</th>\n",
       "      <th>__v</th>\n",
       "      <th>SLBMH_TOT_VAL</th>\n",
       "      <th>VWAP</th>\n",
       "      <th>mTIMESTAMP</th>\n",
       "      <th>CA</th>\n",
       "      <th>CH_CLOSING</th>\n",
       "    </tr>\n",
       "    <tr>\n",
       "      <th>CH_TIMESTAMP</th>\n",
       "      <th></th>\n",
       "      <th></th>\n",
       "      <th></th>\n",
       "      <th></th>\n",
       "      <th></th>\n",
       "      <th></th>\n",
       "      <th></th>\n",
       "      <th></th>\n",
       "      <th></th>\n",
       "      <th></th>\n",
       "      <th></th>\n",
       "      <th></th>\n",
       "      <th></th>\n",
       "      <th></th>\n",
       "      <th></th>\n",
       "      <th></th>\n",
       "      <th></th>\n",
       "      <th></th>\n",
       "      <th></th>\n",
       "      <th></th>\n",
       "      <th></th>\n",
       "    </tr>\n",
       "  </thead>\n",
       "  <tbody>\n",
       "    <tr>\n",
       "      <th>2002-01-01</th>\n",
       "      <td>641f31b44708d50007274d25</td>\n",
       "      <td>HDFCBANK</td>\n",
       "      <td>EQ</td>\n",
       "      <td>N</td>\n",
       "      <td>230.00</td>\n",
       "      <td>222.75</td>\n",
       "      <td>228.00</td>\n",
       "      <td>225.05</td>\n",
       "      <td>226.00</td>\n",
       "      <td>225.60</td>\n",
       "      <td>...</td>\n",
       "      <td>NaN</td>\n",
       "      <td>2001-12-31T18:30:00.000Z</td>\n",
       "      <td>2023-03-25T17:39:00.692Z</td>\n",
       "      <td>2023-03-25T17:39:00.692Z</td>\n",
       "      <td>0</td>\n",
       "      <td>NaN</td>\n",
       "      <td>225.02</td>\n",
       "      <td>01-Jan-2002</td>\n",
       "      <td>NaN</td>\n",
       "      <td>NaN</td>\n",
       "    </tr>\n",
       "    <tr>\n",
       "      <th>2002-01-02</th>\n",
       "      <td>641f32744438f60007b7ce4d</td>\n",
       "      <td>HDFCBANK</td>\n",
       "      <td>EQ</td>\n",
       "      <td>N</td>\n",
       "      <td>225.75</td>\n",
       "      <td>223.00</td>\n",
       "      <td>224.00</td>\n",
       "      <td>225.00</td>\n",
       "      <td>225.00</td>\n",
       "      <td>225.05</td>\n",
       "      <td>...</td>\n",
       "      <td>NaN</td>\n",
       "      <td>2002-01-01T18:30:00.000Z</td>\n",
       "      <td>2023-03-25T17:42:12.909Z</td>\n",
       "      <td>2023-03-25T17:42:12.909Z</td>\n",
       "      <td>0</td>\n",
       "      <td>NaN</td>\n",
       "      <td>224.53</td>\n",
       "      <td>02-Jan-2002</td>\n",
       "      <td>NaN</td>\n",
       "      <td>-0.000222</td>\n",
       "    </tr>\n",
       "    <tr>\n",
       "      <th>2002-01-03</th>\n",
       "      <td>641f3270adde0b0007d23e28</td>\n",
       "      <td>HDFCBANK</td>\n",
       "      <td>EQ</td>\n",
       "      <td>N</td>\n",
       "      <td>227.95</td>\n",
       "      <td>222.20</td>\n",
       "      <td>225.00</td>\n",
       "      <td>226.25</td>\n",
       "      <td>227.75</td>\n",
       "      <td>225.00</td>\n",
       "      <td>...</td>\n",
       "      <td>NaN</td>\n",
       "      <td>2002-01-02T18:30:00.000Z</td>\n",
       "      <td>2023-03-25T17:42:08.208Z</td>\n",
       "      <td>2023-03-25T17:42:08.208Z</td>\n",
       "      <td>0</td>\n",
       "      <td>NaN</td>\n",
       "      <td>224.70</td>\n",
       "      <td>03-Jan-2002</td>\n",
       "      <td>NaN</td>\n",
       "      <td>0.005556</td>\n",
       "    </tr>\n",
       "    <tr>\n",
       "      <th>2002-01-04</th>\n",
       "      <td>641f326a341dfa0007d37446</td>\n",
       "      <td>HDFCBANK</td>\n",
       "      <td>EQ</td>\n",
       "      <td>N</td>\n",
       "      <td>228.00</td>\n",
       "      <td>223.50</td>\n",
       "      <td>225.00</td>\n",
       "      <td>223.95</td>\n",
       "      <td>223.75</td>\n",
       "      <td>226.25</td>\n",
       "      <td>...</td>\n",
       "      <td>NaN</td>\n",
       "      <td>2002-01-03T18:30:00.000Z</td>\n",
       "      <td>2023-03-25T17:42:02.801Z</td>\n",
       "      <td>2023-03-25T17:42:02.801Z</td>\n",
       "      <td>0</td>\n",
       "      <td>NaN</td>\n",
       "      <td>224.49</td>\n",
       "      <td>04-Jan-2002</td>\n",
       "      <td>NaN</td>\n",
       "      <td>-0.010166</td>\n",
       "    </tr>\n",
       "    <tr>\n",
       "      <th>2002-01-07</th>\n",
       "      <td>641f31364708d500072748bd</td>\n",
       "      <td>HDFCBANK</td>\n",
       "      <td>EQ</td>\n",
       "      <td>N</td>\n",
       "      <td>226.35</td>\n",
       "      <td>221.55</td>\n",
       "      <td>224.00</td>\n",
       "      <td>223.95</td>\n",
       "      <td>224.15</td>\n",
       "      <td>223.95</td>\n",
       "      <td>...</td>\n",
       "      <td>NaN</td>\n",
       "      <td>2002-01-06T18:30:00.000Z</td>\n",
       "      <td>2023-03-25T17:36:54.390Z</td>\n",
       "      <td>2023-03-25T17:36:54.390Z</td>\n",
       "      <td>0</td>\n",
       "      <td>NaN</td>\n",
       "      <td>223.79</td>\n",
       "      <td>07-Jan-2002</td>\n",
       "      <td>NaN</td>\n",
       "      <td>0.000000</td>\n",
       "    </tr>\n",
       "    <tr>\n",
       "      <th>...</th>\n",
       "      <td>...</td>\n",
       "      <td>...</td>\n",
       "      <td>...</td>\n",
       "      <td>...</td>\n",
       "      <td>...</td>\n",
       "      <td>...</td>\n",
       "      <td>...</td>\n",
       "      <td>...</td>\n",
       "      <td>...</td>\n",
       "      <td>...</td>\n",
       "      <td>...</td>\n",
       "      <td>...</td>\n",
       "      <td>...</td>\n",
       "      <td>...</td>\n",
       "      <td>...</td>\n",
       "      <td>...</td>\n",
       "      <td>...</td>\n",
       "      <td>...</td>\n",
       "      <td>...</td>\n",
       "      <td>...</td>\n",
       "      <td>...</td>\n",
       "    </tr>\n",
       "    <tr>\n",
       "      <th>2016-03-28</th>\n",
       "      <td>641ebc1f4438f60007b5a3a4</td>\n",
       "      <td>HDFCBANK</td>\n",
       "      <td>EQ</td>\n",
       "      <td>N</td>\n",
       "      <td>1053.00</td>\n",
       "      <td>1041.65</td>\n",
       "      <td>1045.00</td>\n",
       "      <td>1047.50</td>\n",
       "      <td>1052.30</td>\n",
       "      <td>1049.35</td>\n",
       "      <td>...</td>\n",
       "      <td>INE040A01026</td>\n",
       "      <td>2016-03-27T18:30:00.000Z</td>\n",
       "      <td>2023-03-25T09:17:19.098Z</td>\n",
       "      <td>2023-03-25T09:17:19.098Z</td>\n",
       "      <td>0</td>\n",
       "      <td>NaN</td>\n",
       "      <td>1048.62</td>\n",
       "      <td>28-Mar-2016</td>\n",
       "      <td>NaN</td>\n",
       "      <td>-0.001763</td>\n",
       "    </tr>\n",
       "    <tr>\n",
       "      <th>2016-03-28</th>\n",
       "      <td>641ebc1f4438f60007b5a3a4</td>\n",
       "      <td>HDFCBANK</td>\n",
       "      <td>EQ</td>\n",
       "      <td>N</td>\n",
       "      <td>1053.00</td>\n",
       "      <td>1041.65</td>\n",
       "      <td>1045.00</td>\n",
       "      <td>1047.50</td>\n",
       "      <td>1052.30</td>\n",
       "      <td>1049.35</td>\n",
       "      <td>...</td>\n",
       "      <td>INE040A01026</td>\n",
       "      <td>2016-03-27T18:30:00.000Z</td>\n",
       "      <td>2023-03-25T09:17:19.098Z</td>\n",
       "      <td>2023-03-25T09:17:19.098Z</td>\n",
       "      <td>0</td>\n",
       "      <td>NaN</td>\n",
       "      <td>1048.62</td>\n",
       "      <td>28-Mar-2016</td>\n",
       "      <td>NaN</td>\n",
       "      <td>0.000000</td>\n",
       "    </tr>\n",
       "    <tr>\n",
       "      <th>2016-03-29</th>\n",
       "      <td>641ebc2931da23000791a595</td>\n",
       "      <td>HDFCBANK</td>\n",
       "      <td>EQ</td>\n",
       "      <td>N</td>\n",
       "      <td>1059.50</td>\n",
       "      <td>1044.25</td>\n",
       "      <td>1047.50</td>\n",
       "      <td>1053.80</td>\n",
       "      <td>1053.00</td>\n",
       "      <td>1047.50</td>\n",
       "      <td>...</td>\n",
       "      <td>INE040A01026</td>\n",
       "      <td>2016-03-28T18:30:00.000Z</td>\n",
       "      <td>2023-03-25T09:17:29.178Z</td>\n",
       "      <td>2023-03-25T09:17:29.178Z</td>\n",
       "      <td>0</td>\n",
       "      <td>NaN</td>\n",
       "      <td>1054.95</td>\n",
       "      <td>29-Mar-2016</td>\n",
       "      <td>NaN</td>\n",
       "      <td>0.006014</td>\n",
       "    </tr>\n",
       "    <tr>\n",
       "      <th>2016-03-30</th>\n",
       "      <td>641ebc33a077ee000756e4ac</td>\n",
       "      <td>HDFCBANK</td>\n",
       "      <td>EQ</td>\n",
       "      <td>N</td>\n",
       "      <td>1069.90</td>\n",
       "      <td>1053.90</td>\n",
       "      <td>1058.00</td>\n",
       "      <td>1064.95</td>\n",
       "      <td>1066.30</td>\n",
       "      <td>1053.80</td>\n",
       "      <td>...</td>\n",
       "      <td>INE040A01026</td>\n",
       "      <td>2016-03-29T18:30:00.000Z</td>\n",
       "      <td>2023-03-25T09:17:39.302Z</td>\n",
       "      <td>2023-03-25T09:17:39.302Z</td>\n",
       "      <td>0</td>\n",
       "      <td>NaN</td>\n",
       "      <td>1063.19</td>\n",
       "      <td>30-Mar-2016</td>\n",
       "      <td>NaN</td>\n",
       "      <td>0.010581</td>\n",
       "    </tr>\n",
       "    <tr>\n",
       "      <th>2016-03-31</th>\n",
       "      <td>641ebc3d4438f60007b5ab5a</td>\n",
       "      <td>HDFCBANK</td>\n",
       "      <td>EQ</td>\n",
       "      <td>N</td>\n",
       "      <td>1078.90</td>\n",
       "      <td>1065.05</td>\n",
       "      <td>1066.85</td>\n",
       "      <td>1071.15</td>\n",
       "      <td>1071.80</td>\n",
       "      <td>1064.95</td>\n",
       "      <td>...</td>\n",
       "      <td>INE040A01026</td>\n",
       "      <td>2016-03-30T18:30:00.000Z</td>\n",
       "      <td>2023-03-25T09:17:49.415Z</td>\n",
       "      <td>2023-03-25T09:17:49.415Z</td>\n",
       "      <td>0</td>\n",
       "      <td>NaN</td>\n",
       "      <td>1072.96</td>\n",
       "      <td>31-Mar-2016</td>\n",
       "      <td>NaN</td>\n",
       "      <td>0.005822</td>\n",
       "    </tr>\n",
       "  </tbody>\n",
       "</table>\n",
       "<p>3636 rows × 25 columns</p>\n",
       "</div>"
      ],
      "text/plain": [
       "                                   _id CH_SYMBOL CH_SERIES CH_MARKET_TYPE  \\\n",
       "CH_TIMESTAMP                                                                \n",
       "2002-01-01    641f31b44708d50007274d25  HDFCBANK        EQ              N   \n",
       "2002-01-02    641f32744438f60007b7ce4d  HDFCBANK        EQ              N   \n",
       "2002-01-03    641f3270adde0b0007d23e28  HDFCBANK        EQ              N   \n",
       "2002-01-04    641f326a341dfa0007d37446  HDFCBANK        EQ              N   \n",
       "2002-01-07    641f31364708d500072748bd  HDFCBANK        EQ              N   \n",
       "...                                ...       ...       ...            ...   \n",
       "2016-03-28    641ebc1f4438f60007b5a3a4  HDFCBANK        EQ              N   \n",
       "2016-03-28    641ebc1f4438f60007b5a3a4  HDFCBANK        EQ              N   \n",
       "2016-03-29    641ebc2931da23000791a595  HDFCBANK        EQ              N   \n",
       "2016-03-30    641ebc33a077ee000756e4ac  HDFCBANK        EQ              N   \n",
       "2016-03-31    641ebc3d4438f60007b5ab5a  HDFCBANK        EQ              N   \n",
       "\n",
       "              CH_TRADE_HIGH_PRICE  CH_TRADE_LOW_PRICE  CH_OPENING_PRICE  \\\n",
       "CH_TIMESTAMP                                                              \n",
       "2002-01-01                 230.00              222.75            228.00   \n",
       "2002-01-02                 225.75              223.00            224.00   \n",
       "2002-01-03                 227.95              222.20            225.00   \n",
       "2002-01-04                 228.00              223.50            225.00   \n",
       "2002-01-07                 226.35              221.55            224.00   \n",
       "...                           ...                 ...               ...   \n",
       "2016-03-28                1053.00             1041.65           1045.00   \n",
       "2016-03-28                1053.00             1041.65           1045.00   \n",
       "2016-03-29                1059.50             1044.25           1047.50   \n",
       "2016-03-30                1069.90             1053.90           1058.00   \n",
       "2016-03-31                1078.90             1065.05           1066.85   \n",
       "\n",
       "              CH_CLOSING_PRICE  CH_LAST_TRADED_PRICE  CH_PREVIOUS_CLS_PRICE  \\\n",
       "CH_TIMESTAMP                                                                  \n",
       "2002-01-01              225.05                226.00                 225.60   \n",
       "2002-01-02              225.00                225.00                 225.05   \n",
       "2002-01-03              226.25                227.75                 225.00   \n",
       "2002-01-04              223.95                223.75                 226.25   \n",
       "2002-01-07              223.95                224.15                 223.95   \n",
       "...                        ...                   ...                    ...   \n",
       "2016-03-28             1047.50               1052.30                1049.35   \n",
       "2016-03-28             1047.50               1052.30                1049.35   \n",
       "2016-03-29             1053.80               1053.00                1047.50   \n",
       "2016-03-30             1064.95               1066.30                1053.80   \n",
       "2016-03-31             1071.15               1071.80                1064.95   \n",
       "\n",
       "              ...       CH_ISIN                 TIMESTAMP  \\\n",
       "CH_TIMESTAMP  ...                                           \n",
       "2002-01-01    ...           NaN  2001-12-31T18:30:00.000Z   \n",
       "2002-01-02    ...           NaN  2002-01-01T18:30:00.000Z   \n",
       "2002-01-03    ...           NaN  2002-01-02T18:30:00.000Z   \n",
       "2002-01-04    ...           NaN  2002-01-03T18:30:00.000Z   \n",
       "2002-01-07    ...           NaN  2002-01-06T18:30:00.000Z   \n",
       "...           ...           ...                       ...   \n",
       "2016-03-28    ...  INE040A01026  2016-03-27T18:30:00.000Z   \n",
       "2016-03-28    ...  INE040A01026  2016-03-27T18:30:00.000Z   \n",
       "2016-03-29    ...  INE040A01026  2016-03-28T18:30:00.000Z   \n",
       "2016-03-30    ...  INE040A01026  2016-03-29T18:30:00.000Z   \n",
       "2016-03-31    ...  INE040A01026  2016-03-30T18:30:00.000Z   \n",
       "\n",
       "                             createdAt                 updatedAt  __v  \\\n",
       "CH_TIMESTAMP                                                            \n",
       "2002-01-01    2023-03-25T17:39:00.692Z  2023-03-25T17:39:00.692Z    0   \n",
       "2002-01-02    2023-03-25T17:42:12.909Z  2023-03-25T17:42:12.909Z    0   \n",
       "2002-01-03    2023-03-25T17:42:08.208Z  2023-03-25T17:42:08.208Z    0   \n",
       "2002-01-04    2023-03-25T17:42:02.801Z  2023-03-25T17:42:02.801Z    0   \n",
       "2002-01-07    2023-03-25T17:36:54.390Z  2023-03-25T17:36:54.390Z    0   \n",
       "...                                ...                       ...  ...   \n",
       "2016-03-28    2023-03-25T09:17:19.098Z  2023-03-25T09:17:19.098Z    0   \n",
       "2016-03-28    2023-03-25T09:17:19.098Z  2023-03-25T09:17:19.098Z    0   \n",
       "2016-03-29    2023-03-25T09:17:29.178Z  2023-03-25T09:17:29.178Z    0   \n",
       "2016-03-30    2023-03-25T09:17:39.302Z  2023-03-25T09:17:39.302Z    0   \n",
       "2016-03-31    2023-03-25T09:17:49.415Z  2023-03-25T09:17:49.415Z    0   \n",
       "\n",
       "             SLBMH_TOT_VAL     VWAP   mTIMESTAMP   CA  CH_CLOSING  \n",
       "CH_TIMESTAMP                                                       \n",
       "2002-01-01             NaN   225.02  01-Jan-2002  NaN         NaN  \n",
       "2002-01-02             NaN   224.53  02-Jan-2002  NaN   -0.000222  \n",
       "2002-01-03             NaN   224.70  03-Jan-2002  NaN    0.005556  \n",
       "2002-01-04             NaN   224.49  04-Jan-2002  NaN   -0.010166  \n",
       "2002-01-07             NaN   223.79  07-Jan-2002  NaN    0.000000  \n",
       "...                    ...      ...          ...  ...         ...  \n",
       "2016-03-28             NaN  1048.62  28-Mar-2016  NaN   -0.001763  \n",
       "2016-03-28             NaN  1048.62  28-Mar-2016  NaN    0.000000  \n",
       "2016-03-29             NaN  1054.95  29-Mar-2016  NaN    0.006014  \n",
       "2016-03-30             NaN  1063.19  30-Mar-2016  NaN    0.010581  \n",
       "2016-03-31             NaN  1072.96  31-Mar-2016  NaN    0.005822  \n",
       "\n",
       "[3636 rows x 25 columns]"
      ]
     },
     "execution_count": 61,
     "metadata": {},
     "output_type": "execute_result"
    }
   ],
   "source": [
    "data"
   ]
  },
  {
   "cell_type": "code",
   "execution_count": 62,
   "metadata": {},
   "outputs": [],
   "source": [
    "train = data['CH_CLOSING'].iloc[:-100]\n",
    "test = data['CH_CLOSING'].iloc[-100:]"
   ]
  },
  {
   "cell_type": "code",
   "execution_count": 63,
   "metadata": {},
   "outputs": [
    {
     "data": {
      "text/plain": [
       "CH_TIMESTAMP\n",
       "2015-11-09   -0.014895\n",
       "2015-11-10   -0.009579\n",
       "2015-11-11   -0.000190\n",
       "2015-11-13   -0.002229\n",
       "2015-11-16    0.008460\n",
       "                ...   \n",
       "2016-03-28   -0.001763\n",
       "2016-03-28    0.000000\n",
       "2016-03-29    0.006014\n",
       "2016-03-30    0.010581\n",
       "2016-03-31    0.005822\n",
       "Name: CH_CLOSING, Length: 100, dtype: float64"
      ]
     },
     "execution_count": 63,
     "metadata": {},
     "output_type": "execute_result"
    }
   ],
   "source": [
    "test"
   ]
  },
  {
   "cell_type": "code",
   "execution_count": 146,
   "metadata": {},
   "outputs": [
    {
     "name": "stderr",
     "output_type": "stream",
     "text": [
      "/Users/ayushdattajaiswal/miniforge3/envs/mlp/lib/python3.8/site-packages/statsmodels/tsa/base/tsa_model.py:471: ValueWarning: A date index has been provided, but it has no associated frequency information and so will be ignored when e.g. forecasting.\n",
      "  self._init_dates(dates, freq)\n",
      "/Users/ayushdattajaiswal/miniforge3/envs/mlp/lib/python3.8/site-packages/statsmodels/tsa/base/tsa_model.py:471: ValueWarning: A date index has been provided, but it has no associated frequency information and so will be ignored when e.g. forecasting.\n",
      "  self._init_dates(dates, freq)\n",
      "/Users/ayushdattajaiswal/miniforge3/envs/mlp/lib/python3.8/site-packages/statsmodels/tsa/base/tsa_model.py:471: ValueWarning: A date index has been provided, but it has no associated frequency information and so will be ignored when e.g. forecasting.\n",
      "  self._init_dates(dates, freq)\n"
     ]
    }
   ],
   "source": [
    "model = ARIMA(train, order=(1, 0, 0))\n",
    "\n",
    "model_fit = model.fit()"
   ]
  },
  {
   "cell_type": "code",
   "execution_count": 147,
   "metadata": {},
   "outputs": [
    {
     "name": "stderr",
     "output_type": "stream",
     "text": [
      "/Users/ayushdattajaiswal/miniforge3/envs/mlp/lib/python3.8/site-packages/statsmodels/tsa/base/tsa_model.py:834: ValueWarning: No supported index is available. Prediction results will be given with an integer index beginning at `start`.\n",
      "  return get_prediction_index(\n"
     ]
    }
   ],
   "source": [
    "predict = model_fit.predict(len(train), len(train)+len(test)-1, typ='levels')"
   ]
  },
  {
   "cell_type": "code",
   "execution_count": 148,
   "metadata": {},
   "outputs": [
    {
     "data": {
      "text/plain": [
       "3536    0.000875\n",
       "3537    0.000875\n",
       "3538    0.000875\n",
       "3539    0.000875\n",
       "3540    0.000875\n",
       "          ...   \n",
       "3631    0.000875\n",
       "3632    0.000875\n",
       "3633    0.000875\n",
       "3634    0.000875\n",
       "3635    0.000875\n",
       "Name: predicted_mean, Length: 100, dtype: float64"
      ]
     },
     "execution_count": 148,
     "metadata": {},
     "output_type": "execute_result"
    }
   ],
   "source": [
    "predict"
   ]
  },
  {
   "cell_type": "code",
   "execution_count": 149,
   "metadata": {},
   "outputs": [
    {
     "data": {
      "text/plain": [
       "3536    1.000875\n",
       "3537    1.000875\n",
       "3538    1.000875\n",
       "3539    1.000875\n",
       "3540    1.000875\n",
       "          ...   \n",
       "3631    1.000875\n",
       "3632    1.000875\n",
       "3633    1.000875\n",
       "3634    1.000875\n",
       "3635    1.000875\n",
       "Name: predicted_mean, Length: 100, dtype: float64"
      ]
     },
     "execution_count": 149,
     "metadata": {},
     "output_type": "execute_result"
    }
   ],
   "source": [
    "# Now Apply percentage change to the predicted values\n",
    "predict = (predict + 1)\n",
    "predict\n"
   ]
  },
  {
   "cell_type": "code",
   "execution_count": 150,
   "metadata": {},
   "outputs": [],
   "source": [
    "yo=np.zeros(predict.shape)\n",
    "yo[0] = predict[3536]\n",
    "for i in range(3537, 3636):\n",
    "    yo[i-3536] = yo[i-3537] * predict[i]"
   ]
  },
  {
   "cell_type": "code",
   "execution_count": 151,
   "metadata": {},
   "outputs": [
    {
     "data": {
      "text/plain": [
       "array([1.00087463, 1.00175048, 1.00262709, 1.00350446, 1.00438261,\n",
       "       1.00526152, 1.0061412 , 1.00702165, 1.00790288, 1.00878487,\n",
       "       1.00966764, 1.01055117, 1.01143548, 1.01232057, 1.01320643,\n",
       "       1.01409306, 1.01498047, 1.01586866, 1.01675763, 1.01764737,\n",
       "       1.01853789, 1.01942919, 1.02032127, 1.02121413, 1.02210777,\n",
       "       1.02300219, 1.0238974 , 1.02479339, 1.02569016, 1.02658772,\n",
       "       1.02748607, 1.0283852 , 1.02928512, 1.03018582, 1.03108731,\n",
       "       1.03198959, 1.03289267, 1.03379653, 1.03470118, 1.03560662,\n",
       "       1.03651286, 1.03741989, 1.03832771, 1.03923633, 1.04014574,\n",
       "       1.04105595, 1.04196696, 1.04287876, 1.04379136, 1.04470476,\n",
       "       1.04561896, 1.04653395, 1.04744975, 1.04836635, 1.04928375,\n",
       "       1.05020196, 1.05112097, 1.05204078, 1.0529614 , 1.05388282,\n",
       "       1.05480505, 1.05572809, 1.05665193, 1.05757658, 1.05850205,\n",
       "       1.05942832, 1.0603554 , 1.06128329, 1.062212  , 1.06314152,\n",
       "       1.06407185, 1.065003  , 1.06593496, 1.06686773, 1.06780132,\n",
       "       1.06873573, 1.06967096, 1.07060701, 1.07154387, 1.07248155,\n",
       "       1.07342006, 1.07435939, 1.07529953, 1.0762405 , 1.0771823 ,\n",
       "       1.07812492, 1.07906836, 1.08001263, 1.08095772, 1.08190365,\n",
       "       1.0828504 , 1.08379797, 1.08474638, 1.08569562, 1.08664569,\n",
       "       1.08759659, 1.08854832, 1.08950088, 1.09045428, 1.09140851])"
      ]
     },
     "execution_count": 151,
     "metadata": {},
     "output_type": "execute_result"
    }
   ],
   "source": [
    "yo"
   ]
  },
  {
   "cell_type": "code",
   "execution_count": 152,
   "metadata": {},
   "outputs": [
    {
     "data": {
      "text/plain": [
       "1064.8"
      ]
     },
     "execution_count": 152,
     "metadata": {},
     "output_type": "execute_result"
    }
   ],
   "source": [
    "data['CH_CLOSING_PRICE'][-100]"
   ]
  },
  {
   "cell_type": "code",
   "execution_count": 153,
   "metadata": {},
   "outputs": [],
   "source": [
    "prices=yo*data['CH_CLOSING_PRICE'][-100]"
   ]
  },
  {
   "cell_type": "code",
   "execution_count": 154,
   "metadata": {},
   "outputs": [
    {
     "data": {
      "text/plain": [
       "array([1065.73130781, 1066.66390788, 1067.59732185, 1068.53155264,\n",
       "       1069.46660095, 1070.4024675 , 1071.33915301, 1072.2766582 ,\n",
       "       1073.21498377, 1074.15413045, 1075.09409896, 1076.03489001,\n",
       "       1076.97650433, 1077.91894264, 1078.86220565, 1079.80629409,\n",
       "       1080.75120868, 1081.69695014, 1082.6435192 , 1083.59091659,\n",
       "       1084.53914302, 1085.48819922, 1086.43808592, 1087.38880385,\n",
       "       1088.34035372, 1089.29273628, 1090.24595225, 1091.20000235,\n",
       "       1092.15488732, 1093.1106079 , 1094.0671648 , 1095.02455876,\n",
       "       1095.98279052, 1096.9418608 , 1097.90177035, 1098.86251989,\n",
       "       1099.82411016, 1100.7865419 , 1101.74981584, 1102.71393272,\n",
       "       1103.67889328, 1104.64469826, 1105.61134839, 1106.57884441,\n",
       "       1107.54718707, 1108.5163771 , 1109.48641525, 1110.45730225,\n",
       "       1111.42903886, 1112.40162582, 1113.37506386, 1114.34935374,\n",
       "       1115.3244962 , 1116.30049198, 1117.27734184, 1118.25504651,\n",
       "       1119.23360676, 1120.21302332, 1121.19329694, 1122.17442838,\n",
       "       1123.15641839, 1124.13926772, 1125.12297711, 1126.10754733,\n",
       "       1127.09297912, 1128.07927324, 1129.06643045, 1130.0544515 ,\n",
       "       1131.04333714, 1132.03308813, 1133.02370523, 1134.0151892 ,\n",
       "       1135.0075408 , 1136.00076078, 1136.9948499 , 1137.98980893,\n",
       "       1138.98563863, 1139.98233976, 1140.97991307, 1141.97835934,\n",
       "       1142.97767933, 1143.97787381, 1144.97894353, 1145.98088926,\n",
       "       1146.98371177, 1147.98741184, 1148.99199021, 1149.99744768,\n",
       "       1151.00378499, 1152.01100293, 1153.01910227, 1154.02808376,\n",
       "       1155.0379482 , 1156.04869635, 1157.06032898, 1158.07284686,\n",
       "       1159.08625078, 1160.10054151, 1161.11571982, 1162.13178649])"
      ]
     },
     "execution_count": 154,
     "metadata": {},
     "output_type": "execute_result"
    }
   ],
   "source": [
    "prices"
   ]
  },
  {
   "cell_type": "code",
   "execution_count": 139,
   "metadata": {},
   "outputs": [],
   "source": [
    "yo2 = data['CH_CLOSING_PRICE'][-100:].to_numpy()"
   ]
  },
  {
   "cell_type": "code",
   "execution_count": 140,
   "metadata": {},
   "outputs": [
    {
     "data": {
      "text/plain": [
       "array([1064.8 , 1054.6 , 1054.4 , 1052.05, 1060.95, 1060.8 , 1048.6 ,\n",
       "       1068.9 , 1070.85, 1066.05, 1064.35, 1063.95, 1079.4 , 1077.75,\n",
       "       1083.  , 1077.8 , 1076.75, 1058.9 , 1061.95, 1049.25, 1047.45,\n",
       "       1060.6 , 1046.35, 1055.05, 1059.45, 1067.3 , 1080.25, 1073.  ,\n",
       "       1075.4 , 1066.45, 1074.1 , 1074.  , 1077.25, 1077.95, 1074.3 ,\n",
       "       1082.15, 1088.75, 1070.5 , 1062.4 , 1067.1 , 1056.2 , 1062.35,\n",
       "       1062.35, 1058.6 , 1046.95, 1060.15, 1049.75, 1042.15, 1025.85,\n",
       "       1035.8 , 1018.3 , 1023.  , 1030.3 , 1041.15, 1035.65, 1031.7 ,\n",
       "       1049.85, 1059.75, 1053.8 , 1043.85, 1049.2 , 1055.25, 1035.85,\n",
       "       1026.05, 1012.95,  975.3 ,  971.4 ,  973.6 ,  973.45,  974.9 ,\n",
       "        974.9 ,  989.45,  989.3 ,  988.75,  970.05,  949.6 ,  942.65,\n",
       "        961.  ,  971.85,  984.15, 1007.2 , 1015.85, 1020.55, 1014.15,\n",
       "       1024.8 , 1021.25, 1028.7 , 1027.55, 1026.7 , 1030.45, 1018.4 ,\n",
       "       1028.4 , 1045.6 , 1053.85, 1049.35, 1047.5 , 1047.5 , 1053.8 ,\n",
       "       1064.95, 1071.15])"
      ]
     },
     "execution_count": 140,
     "metadata": {},
     "output_type": "execute_result"
    }
   ],
   "source": [
    "yo2"
   ]
  },
  {
   "cell_type": "code",
   "execution_count": 141,
   "metadata": {},
   "outputs": [
    {
     "data": {
      "text/plain": [
       "(100,)"
      ]
     },
     "execution_count": 141,
     "metadata": {},
     "output_type": "execute_result"
    }
   ],
   "source": [
    "yo2.shape"
   ]
  },
  {
   "cell_type": "code",
   "execution_count": null,
   "metadata": {},
   "outputs": [],
   "source": []
  }
 ],
 "metadata": {
  "kernelspec": {
   "display_name": "Python 3 (ipykernel)",
   "language": "python",
   "name": "python3"
  },
  "language_info": {
   "codemirror_mode": {
    "name": "ipython",
    "version": 3
   },
   "file_extension": ".py",
   "mimetype": "text/x-python",
   "name": "python",
   "nbconvert_exporter": "python",
   "pygments_lexer": "ipython3",
   "version": "3.8.16"
  }
 },
 "nbformat": 4,
 "nbformat_minor": 2
}
