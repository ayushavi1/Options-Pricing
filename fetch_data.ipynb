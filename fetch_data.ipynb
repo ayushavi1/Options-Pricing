{
 "cells": [
  {
   "attachments": {},
   "cell_type": "markdown",
   "metadata": {},
   "source": [
    "# `1` Fetch and Store Equity Data"
   ]
  },
  {
   "attachments": {},
   "cell_type": "markdown",
   "metadata": {},
   "source": [
    "`1.1` Importing all the dependencies"
   ]
  },
  {
   "cell_type": "code",
   "execution_count": null,
   "metadata": {},
   "outputs": [],
   "source": [
    "from nsepython import *\n",
    "import pandas as pd"
   ]
  },
  {
   "attachments": {},
   "cell_type": "markdown",
   "metadata": {},
   "source": [
    "`1.2` Fetch historical equity data for the `HDFCBANK` stock from the start date `01-01-2002` to the end date `31-03-2016`.\n",
    "<br />\n",
    "The `equity_history()` function takes the stock symbol and series as inputs and returns a dataframe containing information such as date, open, high, low, close, and volume for the specified time period.\n",
    "<br />\n",
    "The resulting dataframe is stored in the variable `data_old`.\n",
    "<br />\n",
    "Sort the dataframe in ascending order of date.\n",
    "<br />\n",
    "Store sorted dataframe in a csv file `data_old.csv` in `data` folder."
   ]
  },
  {
   "cell_type": "code",
   "execution_count": null,
   "metadata": {},
   "outputs": [],
   "source": [
    "symbol = \"HDFCBANK\"\n",
    "series = \"EQ\"\n",
    "start_date = \"01-01-2002\"\n",
    "end_date = \"31-03-2016\"\n",
    "data_old=equity_history(symbol,series,start_date,end_date).sort_values(by=['CH_TIMESTAMP'], ascending=True)\n",
    "data_old\n",
    "# to csv\n",
    "data_old.to_csv(r'./data/data_old.csv', index=False)"
   ]
  },
  {
   "attachments": {},
   "cell_type": "markdown",
   "metadata": {},
   "source": [
    "`1.3` Similarly fetch, sort and store the new data with start date `01-04-2016` and end date `31-03-2017` in a csv file: `data_new.csv` in `data` folder.  "
   ]
  },
  {
   "cell_type": "code",
   "execution_count": null,
   "metadata": {},
   "outputs": [],
   "source": [
    "symbol = \"HDFCBANK\"\n",
    "series = \"EQ\"\n",
    "start_date = \"01-04-2016\"\n",
    "end_date =\"31-03-2017\"\n",
    "data_new=equity_history(symbol,series,start_date,end_date).sort_values(by=['CH_TIMESTAMP'], ascending=True)\n",
    "data_new\n",
    "# to csv\n",
    "data_new.to_csv(r'./data/data_new.csv', index=False)"
   ]
  },
  {
   "cell_type": "code",
   "execution_count": null,
   "metadata": {},
   "outputs": [],
   "source": [
    "symbol = \"NIFTY BANK\"\n",
    "start_date = \"01-Jan-2002\"\n",
    "end_date = \"31-Mar-2016\"\n",
    "index_data = index_history(symbol,start_date,end_date)\n",
    "index_data[\"HistoricalDate\"] = pd.to_datetime(index_data[\"HistoricalDate\"])\n",
    "index_data = index_data.sort_values(by=['HistoricalDate'], ascending=True)\n",
    "index_data.set_index('HistoricalDate', inplace=True)\n",
    "index_data\n",
    "# to csv\n",
    "index_data.to_csv(r'./data/index_data.csv', index=True)"
   ]
  },
  {
   "cell_type": "code",
   "execution_count": null,
   "metadata": {},
   "outputs": [],
   "source": [
    "symbol = \"NIFTY BANK\"\n",
    "start_date = \"01-Apr-2016\"\n",
    "end_date = \"31-Mar-2017\"\n",
    "new_index_data = index_history(symbol,start_date,end_date)\n",
    "new_index_data[\"HistoricalDate\"] = pd.to_datetime(new_index_data[\"HistoricalDate\"])\n",
    "new_index_data = new_index_data.sort_values(by=['HistoricalDate'], ascending=True)\n",
    "new_index_data.set_index('HistoricalDate', inplace=True)\n",
    "new_index_data\n",
    "# to csv\n",
    "new_index_data.to_csv(r'./data/new_index_data.csv', index=True)"
   ]
  },
  {
   "cell_type": "code",
   "execution_count": null,
   "metadata": {},
   "outputs": [],
   "source": []
  }
 ],
 "metadata": {
  "kernelspec": {
   "display_name": "Python 3",
   "language": "python",
   "name": "python3"
  },
  "language_info": {
   "codemirror_mode": {
    "name": "ipython",
    "version": 3
   },
   "file_extension": ".py",
   "mimetype": "text/x-python",
   "name": "python",
   "nbconvert_exporter": "python",
   "pygments_lexer": "ipython3",
   "version": "3.8.16"
  },
  "orig_nbformat": 4
 },
 "nbformat": 4,
 "nbformat_minor": 2
}
